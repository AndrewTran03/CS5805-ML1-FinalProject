{
 "cells": [
  {
   "cell_type": "code",
   "execution_count": 1,
   "metadata": {},
   "outputs": [
    {
     "name": "stderr",
     "output_type": "stream",
     "text": [
      "h:\\Anaconda-Installation\\Lib\\site-packages\\paramiko\\transport.py:219: CryptographyDeprecationWarning: Blowfish has been deprecated\n",
      "  \"class\": algorithms.Blowfish,\n"
     ]
    }
   ],
   "source": [
    "# Source for Images: https://www.kaggle.com/code/basu369victor/image-colorization-basic-implementation-with-cnn/input\n",
    "# Source for Images: https://github.com/guilbera/colorizing\n",
    "# Source for Code (Reference): https://anne-guilbert.medium.com/black-and-white-image-colorization-with-deep-learning-53855922cda6\n",
    "\n",
    "# Import needed libraries\n",
    "from keras.models import Sequential\n",
    "from keras.layers import Conv2D, UpSampling2D\n",
    "from keras.preprocessing.image import ImageDataGenerator, img_to_array, load_img\n",
    "from skimage.color import rgb2lab, lab2rgb\n",
    "from skimage.transform import resize\n",
    "from skimage.io import imsave, imshow\n",
    "import tensorflow as tf\n",
    "import numpy as np\n",
    "import os\n",
    "import matplotlib.pyplot as plt\n",
    "plt.style.use(\"fivethirtyeight\")"
   ]
  },
  {
   "cell_type": "code",
   "execution_count": 2,
   "metadata": {},
   "outputs": [
    {
     "name": "stdout",
     "output_type": "stream",
     "text": [
      "Found 9294 images belonging to 1 classes.\n"
     ]
    },
    {
     "data": {
      "text/plain": [
       "(<keras.src.preprocessing.image.DirectoryIterator at 0x1bc267f89d0>,\n",
       " keras.src.preprocessing.image.DirectoryIterator,\n",
       " 1)"
      ]
     },
     "execution_count": 2,
     "metadata": {},
     "output_type": "execute_result"
    }
   ],
   "source": [
    "root_dir = \"./datasets/training\"\n",
    "\n",
    "img_data_gen = ImageDataGenerator(rescale=(1.0 / 255))\n",
    "\n",
    "training_images = img_data_gen.flow_from_directory(directory=root_dir, target_size=(224, 224), shuffle=False, batch_size=9294, class_mode=None)\n",
    "training_images, type(training_images), len(training_images)"
   ]
  },
  {
   "cell_type": "code",
   "execution_count": 3,
   "metadata": {},
   "outputs": [
    {
     "data": {
      "text/plain": [
       "((9294, 224, 224, 1), (9294, 224, 224, 2))"
      ]
     },
     "execution_count": 3,
     "metadata": {},
     "output_type": "execute_result"
    }
   ],
   "source": [
    "X, y = [], []\n",
    "for image in training_images[0]:\n",
    "    try:\n",
    "        image_LAB = rgb2lab(image)\n",
    "        X.append(image_LAB[:, :, 0])\n",
    "        y.append((image_LAB[:,:, 1:]) / 128)\n",
    "    except:\n",
    "        print(\"Error in conversion or calculation\")\n",
    "X = np.array(X)\n",
    "y = np.array(y)\n",
    "X = X.reshape(X.shape + (1,))\n",
    "X.shape, y.shape"
   ]
  },
  {
   "cell_type": "code",
   "execution_count": 4,
   "metadata": {},
   "outputs": [],
   "source": [
    "# Encoder\n",
    "model = Sequential()\n",
    "model.add(Conv2D(64, (3, 3), activation=\"relu\", padding=\"same\", strides=2, input_shape=(224, 224, 1)))\n",
    "model.add(Conv2D(128, (3, 3), activation=\"relu\", padding=\"same\"))\n",
    "model.add(Conv2D(128, (3, 3), activation=\"relu\", padding=\"same\", strides=2))\n",
    "model.add(Conv2D(256, (3, 3), activation=\"relu\", padding=\"same\"))\n",
    "model.add(Conv2D(256, (3, 3), activation=\"relu\", padding=\"same\", strides=2))\n",
    "model.add(Conv2D(512, (3, 3), activation=\"relu\", padding=\"same\"))\n",
    "model.add(Conv2D(512, (3, 3), activation=\"relu\", padding=\"same\"))\n",
    "model.add(Conv2D(256, (3, 3), activation=\"relu\", padding=\"same\"))"
   ]
  },
  {
   "cell_type": "code",
   "execution_count": 5,
   "metadata": {},
   "outputs": [
    {
     "name": "stdout",
     "output_type": "stream",
     "text": [
      "Model: \"sequential\"\n",
      "_________________________________________________________________\n",
      " Layer (type)                Output Shape              Param #   \n",
      "=================================================================\n",
      " conv2d (Conv2D)             (None, 112, 112, 64)      640       \n",
      "                                                                 \n",
      " conv2d_1 (Conv2D)           (None, 112, 112, 128)     73856     \n",
      "                                                                 \n",
      " conv2d_2 (Conv2D)           (None, 56, 56, 128)       147584    \n",
      "                                                                 \n",
      " conv2d_3 (Conv2D)           (None, 56, 56, 256)       295168    \n",
      "                                                                 \n",
      " conv2d_4 (Conv2D)           (None, 28, 28, 256)       590080    \n",
      "                                                                 \n",
      " conv2d_5 (Conv2D)           (None, 28, 28, 512)       1180160   \n",
      "                                                                 \n",
      " conv2d_6 (Conv2D)           (None, 28, 28, 512)       2359808   \n",
      "                                                                 \n",
      " conv2d_7 (Conv2D)           (None, 28, 28, 256)       1179904   \n",
      "                                                                 \n",
      " conv2d_8 (Conv2D)           (None, 28, 28, 128)       295040    \n",
      "                                                                 \n",
      " up_sampling2d (UpSampling2  (None, 56, 56, 128)       0         \n",
      " D)                                                              \n",
      "                                                                 \n",
      " conv2d_9 (Conv2D)           (None, 56, 56, 64)        73792     \n",
      "                                                                 \n",
      " up_sampling2d_1 (UpSamplin  (None, 112, 112, 64)      0         \n",
      " g2D)                                                            \n",
      "                                                                 \n",
      " conv2d_10 (Conv2D)          (None, 112, 112, 32)      18464     \n",
      "                                                                 \n",
      " conv2d_11 (Conv2D)          (None, 112, 112, 16)      4624      \n",
      "                                                                 \n",
      " conv2d_12 (Conv2D)          (None, 112, 112, 2)       290       \n",
      "                                                                 \n",
      " up_sampling2d_2 (UpSamplin  (None, 224, 224, 2)       0         \n",
      " g2D)                                                            \n",
      "                                                                 \n",
      "=================================================================\n",
      "Total params: 6219410 (23.73 MB)\n",
      "Trainable params: 6219410 (23.73 MB)\n",
      "Non-trainable params: 0 (0.00 Byte)\n",
      "_________________________________________________________________\n"
     ]
    }
   ],
   "source": [
    "# Decoder\n",
    "model.add(Conv2D(128, (3, 3), activation=\"relu\", padding=\"same\"))\n",
    "model.add(UpSampling2D((2, 2)))\n",
    "model.add(Conv2D(64, (3, 3), activation=\"relu\", padding=\"same\"))\n",
    "model.add(UpSampling2D((2, 2)))\n",
    "model.add(Conv2D(32, (3, 3), activation=\"relu\", padding=\"same\"))\n",
    "model.add(Conv2D(16, (3, 3), activation=\"relu\", padding=\"same\"))\n",
    "model.add(Conv2D(2, (3, 3), activation=\"tanh\", padding=\"same\"))\n",
    "model.add(UpSampling2D((2, 2)))\n",
    "model.compile(optimizer=\"adam\", loss=\"mse\", metrics=[\"accuracy\"])\n",
    "model.summary()"
   ]
  },
  {
   "cell_type": "code",
   "execution_count": 6,
   "metadata": {},
   "outputs": [
    {
     "name": "stdout",
     "output_type": "stream",
     "text": [
      "Epoch 1/300\n",
      "262/262 [==============================] - 1752s 7s/step - loss: 0.0173 - accuracy: 0.5394 - val_loss: 0.0100 - val_accuracy: 0.5599\n",
      "Epoch 2/300\n",
      "262/262 [==============================] - 1719s 7s/step - loss: 0.0105 - accuracy: 0.5434 - val_loss: 0.0100 - val_accuracy: 0.5598\n",
      "Epoch 3/300\n",
      "262/262 [==============================] - 1628s 6s/step - loss: 0.0104 - accuracy: 0.5399 - val_loss: 0.0101 - val_accuracy: 0.5598\n",
      "Epoch 4/300\n",
      "262/262 [==============================] - 1589s 6s/step - loss: 0.0104 - accuracy: 0.5460 - val_loss: 0.0100 - val_accuracy: 0.5621\n",
      "Epoch 5/300\n",
      "262/262 [==============================] - 1555s 6s/step - loss: 0.0104 - accuracy: 0.5454 - val_loss: 0.0100 - val_accuracy: 0.5579\n",
      "Epoch 6/300\n",
      "262/262 [==============================] - 1731s 7s/step - loss: 0.0104 - accuracy: 0.5470 - val_loss: 0.0100 - val_accuracy: 0.5599\n",
      "Epoch 7/300\n",
      "262/262 [==============================] - 1599s 6s/step - loss: 0.0105 - accuracy: 0.5433 - val_loss: 0.0100 - val_accuracy: 0.5599\n",
      "Epoch 8/300\n",
      "262/262 [==============================] - 1605s 6s/step - loss: 0.0105 - accuracy: 0.5446 - val_loss: 0.0100 - val_accuracy: 0.5599\n",
      "Epoch 9/300\n",
      "262/262 [==============================] - 1600s 6s/step - loss: 0.0105 - accuracy: 0.5446 - val_loss: 0.0100 - val_accuracy: 0.5599\n",
      "Epoch 10/300\n",
      "262/262 [==============================] - 1589s 6s/step - loss: 0.0105 - accuracy: 0.5447 - val_loss: 0.0100 - val_accuracy: 0.5578\n",
      "Epoch 11/300\n",
      "262/262 [==============================] - 1829s 7s/step - loss: 0.0105 - accuracy: 0.5445 - val_loss: 0.0100 - val_accuracy: 0.5600\n",
      "Epoch 12/300\n",
      "262/262 [==============================] - 7219s 28s/step - loss: 0.0105 - accuracy: 0.5445 - val_loss: 0.0100 - val_accuracy: 0.5604\n",
      "Epoch 13/300\n",
      "262/262 [==============================] - 1941s 7s/step - loss: 0.0105 - accuracy: 0.5446 - val_loss: 0.0100 - val_accuracy: 0.5601\n",
      "Epoch 14/300\n",
      "248/262 [===========================>..] - ETA: 1:24 - loss: 0.0105 - accuracy: 0.5454"
     ]
    },
    {
     "ename": "KeyboardInterrupt",
     "evalue": "",
     "output_type": "error",
     "traceback": [
      "\u001b[1;31m---------------------------------------------------------------------------\u001b[0m",
      "\u001b[1;31mKeyboardInterrupt\u001b[0m                         Traceback (most recent call last)",
      "\u001b[1;32mh:\\Andrew Academics\\Coding-Projects\\CS 5805\\CS5805-ML1-FinalProject\\Image-Colorization-CNN-Deep-Learning-Blog-Post\\index.ipynb Cell 6\u001b[0m line \u001b[0;36m5\n\u001b[0;32m      <a href='vscode-notebook-cell:/h%3A/Andrew%20Academics/Coding-Projects/CS%205805/CS5805-ML1-FinalProject/Image-Colorization-CNN-Deep-Learning-Blog-Post/index.ipynb#W5sZmlsZQ%3D%3D?line=0'>1</a>\u001b[0m \u001b[39m# tf.config.run_functions_eagerly(True)\u001b[39;00m\n\u001b[0;32m      <a href='vscode-notebook-cell:/h%3A/Andrew%20Academics/Coding-Projects/CS%205805/CS5805-ML1-FinalProject/Image-Colorization-CNN-Deep-Learning-Blog-Post/index.ipynb#W5sZmlsZQ%3D%3D?line=1'>2</a>\u001b[0m \u001b[39m# strategy = tf.distribute.MirroredStrategy()\u001b[39;00m\n\u001b[0;32m      <a href='vscode-notebook-cell:/h%3A/Andrew%20Academics/Coding-Projects/CS%205805/CS5805-ML1-FinalProject/Image-Colorization-CNN-Deep-Learning-Blog-Post/index.ipynb#W5sZmlsZQ%3D%3D?line=2'>3</a>\u001b[0m \u001b[39m# model.add(tf.keras.layers.BatchNormalization(synchronized=True))\u001b[39;00m\n\u001b[1;32m----> <a href='vscode-notebook-cell:/h%3A/Andrew%20Academics/Coding-Projects/CS%205805/CS5805-ML1-FinalProject/Image-Colorization-CNN-Deep-Learning-Blog-Post/index.ipynb#W5sZmlsZQ%3D%3D?line=4'>5</a>\u001b[0m model\u001b[39m.\u001b[39mfit(X, y, validation_split\u001b[39m=\u001b[39m\u001b[39m0.1\u001b[39m, epochs\u001b[39m=\u001b[39m\u001b[39m300\u001b[39m)\n\u001b[0;32m      <a href='vscode-notebook-cell:/h%3A/Andrew%20Academics/Coding-Projects/CS%205805/CS5805-ML1-FinalProject/Image-Colorization-CNN-Deep-Learning-Blog-Post/index.ipynb#W5sZmlsZQ%3D%3D?line=5'>6</a>\u001b[0m model\u001b[39m.\u001b[39msave(\u001b[39m\"\u001b[39m\u001b[39mmodels/image_colorization_cnn.model\u001b[39m\u001b[39m\"\u001b[39m)\n",
      "File \u001b[1;32mh:\\Anaconda-Installation\\Lib\\site-packages\\keras\\src\\utils\\traceback_utils.py:65\u001b[0m, in \u001b[0;36mfilter_traceback.<locals>.error_handler\u001b[1;34m(*args, **kwargs)\u001b[0m\n\u001b[0;32m     63\u001b[0m filtered_tb \u001b[39m=\u001b[39m \u001b[39mNone\u001b[39;00m\n\u001b[0;32m     64\u001b[0m \u001b[39mtry\u001b[39;00m:\n\u001b[1;32m---> 65\u001b[0m     \u001b[39mreturn\u001b[39;00m fn(\u001b[39m*\u001b[39margs, \u001b[39m*\u001b[39m\u001b[39m*\u001b[39mkwargs)\n\u001b[0;32m     66\u001b[0m \u001b[39mexcept\u001b[39;00m \u001b[39mException\u001b[39;00m \u001b[39mas\u001b[39;00m e:\n\u001b[0;32m     67\u001b[0m     filtered_tb \u001b[39m=\u001b[39m _process_traceback_frames(e\u001b[39m.\u001b[39m__traceback__)\n",
      "File \u001b[1;32mh:\\Anaconda-Installation\\Lib\\site-packages\\keras\\src\\engine\\training.py:1742\u001b[0m, in \u001b[0;36mModel.fit\u001b[1;34m(self, x, y, batch_size, epochs, verbose, callbacks, validation_split, validation_data, shuffle, class_weight, sample_weight, initial_epoch, steps_per_epoch, validation_steps, validation_batch_size, validation_freq, max_queue_size, workers, use_multiprocessing)\u001b[0m\n\u001b[0;32m   1734\u001b[0m \u001b[39mwith\u001b[39;00m tf\u001b[39m.\u001b[39mprofiler\u001b[39m.\u001b[39mexperimental\u001b[39m.\u001b[39mTrace(\n\u001b[0;32m   1735\u001b[0m     \u001b[39m\"\u001b[39m\u001b[39mtrain\u001b[39m\u001b[39m\"\u001b[39m,\n\u001b[0;32m   1736\u001b[0m     epoch_num\u001b[39m=\u001b[39mepoch,\n\u001b[1;32m   (...)\u001b[0m\n\u001b[0;32m   1739\u001b[0m     _r\u001b[39m=\u001b[39m\u001b[39m1\u001b[39m,\n\u001b[0;32m   1740\u001b[0m ):\n\u001b[0;32m   1741\u001b[0m     callbacks\u001b[39m.\u001b[39mon_train_batch_begin(step)\n\u001b[1;32m-> 1742\u001b[0m     tmp_logs \u001b[39m=\u001b[39m \u001b[39mself\u001b[39m\u001b[39m.\u001b[39mtrain_function(iterator)\n\u001b[0;32m   1743\u001b[0m     \u001b[39mif\u001b[39;00m data_handler\u001b[39m.\u001b[39mshould_sync:\n\u001b[0;32m   1744\u001b[0m         context\u001b[39m.\u001b[39masync_wait()\n",
      "File \u001b[1;32mh:\\Anaconda-Installation\\Lib\\site-packages\\tensorflow\\python\\util\\traceback_utils.py:150\u001b[0m, in \u001b[0;36mfilter_traceback.<locals>.error_handler\u001b[1;34m(*args, **kwargs)\u001b[0m\n\u001b[0;32m    148\u001b[0m filtered_tb \u001b[39m=\u001b[39m \u001b[39mNone\u001b[39;00m\n\u001b[0;32m    149\u001b[0m \u001b[39mtry\u001b[39;00m:\n\u001b[1;32m--> 150\u001b[0m   \u001b[39mreturn\u001b[39;00m fn(\u001b[39m*\u001b[39margs, \u001b[39m*\u001b[39m\u001b[39m*\u001b[39mkwargs)\n\u001b[0;32m    151\u001b[0m \u001b[39mexcept\u001b[39;00m \u001b[39mException\u001b[39;00m \u001b[39mas\u001b[39;00m e:\n\u001b[0;32m    152\u001b[0m   filtered_tb \u001b[39m=\u001b[39m _process_traceback_frames(e\u001b[39m.\u001b[39m__traceback__)\n",
      "File \u001b[1;32mh:\\Anaconda-Installation\\Lib\\site-packages\\tensorflow\\python\\eager\\polymorphic_function\\polymorphic_function.py:825\u001b[0m, in \u001b[0;36mFunction.__call__\u001b[1;34m(self, *args, **kwds)\u001b[0m\n\u001b[0;32m    822\u001b[0m compiler \u001b[39m=\u001b[39m \u001b[39m\"\u001b[39m\u001b[39mxla\u001b[39m\u001b[39m\"\u001b[39m \u001b[39mif\u001b[39;00m \u001b[39mself\u001b[39m\u001b[39m.\u001b[39m_jit_compile \u001b[39melse\u001b[39;00m \u001b[39m\"\u001b[39m\u001b[39mnonXla\u001b[39m\u001b[39m\"\u001b[39m\n\u001b[0;32m    824\u001b[0m \u001b[39mwith\u001b[39;00m OptionalXlaContext(\u001b[39mself\u001b[39m\u001b[39m.\u001b[39m_jit_compile):\n\u001b[1;32m--> 825\u001b[0m   result \u001b[39m=\u001b[39m \u001b[39mself\u001b[39m\u001b[39m.\u001b[39m_call(\u001b[39m*\u001b[39margs, \u001b[39m*\u001b[39m\u001b[39m*\u001b[39mkwds)\n\u001b[0;32m    827\u001b[0m new_tracing_count \u001b[39m=\u001b[39m \u001b[39mself\u001b[39m\u001b[39m.\u001b[39mexperimental_get_tracing_count()\n\u001b[0;32m    828\u001b[0m without_tracing \u001b[39m=\u001b[39m (tracing_count \u001b[39m==\u001b[39m new_tracing_count)\n",
      "File \u001b[1;32mh:\\Anaconda-Installation\\Lib\\site-packages\\tensorflow\\python\\eager\\polymorphic_function\\polymorphic_function.py:857\u001b[0m, in \u001b[0;36mFunction._call\u001b[1;34m(self, *args, **kwds)\u001b[0m\n\u001b[0;32m    854\u001b[0m   \u001b[39mself\u001b[39m\u001b[39m.\u001b[39m_lock\u001b[39m.\u001b[39mrelease()\n\u001b[0;32m    855\u001b[0m   \u001b[39m# In this case we have created variables on the first call, so we run the\u001b[39;00m\n\u001b[0;32m    856\u001b[0m   \u001b[39m# defunned version which is guaranteed to never create variables.\u001b[39;00m\n\u001b[1;32m--> 857\u001b[0m   \u001b[39mreturn\u001b[39;00m \u001b[39mself\u001b[39m\u001b[39m.\u001b[39m_no_variable_creation_fn(\u001b[39m*\u001b[39margs, \u001b[39m*\u001b[39m\u001b[39m*\u001b[39mkwds)  \u001b[39m# pylint: disable=not-callable\u001b[39;00m\n\u001b[0;32m    858\u001b[0m \u001b[39melif\u001b[39;00m \u001b[39mself\u001b[39m\u001b[39m.\u001b[39m_variable_creation_fn \u001b[39mis\u001b[39;00m \u001b[39mnot\u001b[39;00m \u001b[39mNone\u001b[39;00m:\n\u001b[0;32m    859\u001b[0m   \u001b[39m# Release the lock early so that multiple threads can perform the call\u001b[39;00m\n\u001b[0;32m    860\u001b[0m   \u001b[39m# in parallel.\u001b[39;00m\n\u001b[0;32m    861\u001b[0m   \u001b[39mself\u001b[39m\u001b[39m.\u001b[39m_lock\u001b[39m.\u001b[39mrelease()\n",
      "File \u001b[1;32mh:\\Anaconda-Installation\\Lib\\site-packages\\tensorflow\\python\\eager\\polymorphic_function\\tracing_compiler.py:148\u001b[0m, in \u001b[0;36mTracingCompiler.__call__\u001b[1;34m(self, *args, **kwargs)\u001b[0m\n\u001b[0;32m    145\u001b[0m \u001b[39mwith\u001b[39;00m \u001b[39mself\u001b[39m\u001b[39m.\u001b[39m_lock:\n\u001b[0;32m    146\u001b[0m   (concrete_function,\n\u001b[0;32m    147\u001b[0m    filtered_flat_args) \u001b[39m=\u001b[39m \u001b[39mself\u001b[39m\u001b[39m.\u001b[39m_maybe_define_function(args, kwargs)\n\u001b[1;32m--> 148\u001b[0m \u001b[39mreturn\u001b[39;00m concrete_function\u001b[39m.\u001b[39m_call_flat(\n\u001b[0;32m    149\u001b[0m     filtered_flat_args, captured_inputs\u001b[39m=\u001b[39mconcrete_function\u001b[39m.\u001b[39mcaptured_inputs)\n",
      "File \u001b[1;32mh:\\Anaconda-Installation\\Lib\\site-packages\\tensorflow\\python\\eager\\polymorphic_function\\monomorphic_function.py:1349\u001b[0m, in \u001b[0;36mConcreteFunction._call_flat\u001b[1;34m(self, args, captured_inputs)\u001b[0m\n\u001b[0;32m   1345\u001b[0m possible_gradient_type \u001b[39m=\u001b[39m gradients_util\u001b[39m.\u001b[39mPossibleTapeGradientTypes(args)\n\u001b[0;32m   1346\u001b[0m \u001b[39mif\u001b[39;00m (possible_gradient_type \u001b[39m==\u001b[39m gradients_util\u001b[39m.\u001b[39mPOSSIBLE_GRADIENT_TYPES_NONE\n\u001b[0;32m   1347\u001b[0m     \u001b[39mand\u001b[39;00m executing_eagerly):\n\u001b[0;32m   1348\u001b[0m   \u001b[39m# No tape is watching; skip to running the function.\u001b[39;00m\n\u001b[1;32m-> 1349\u001b[0m   \u001b[39mreturn\u001b[39;00m \u001b[39mself\u001b[39m\u001b[39m.\u001b[39m_build_call_outputs(\u001b[39mself\u001b[39m\u001b[39m.\u001b[39m_inference_function(\u001b[39m*\u001b[39margs))\n\u001b[0;32m   1350\u001b[0m forward_backward \u001b[39m=\u001b[39m \u001b[39mself\u001b[39m\u001b[39m.\u001b[39m_select_forward_and_backward_functions(\n\u001b[0;32m   1351\u001b[0m     args,\n\u001b[0;32m   1352\u001b[0m     possible_gradient_type,\n\u001b[0;32m   1353\u001b[0m     executing_eagerly)\n\u001b[0;32m   1354\u001b[0m forward_function, args_with_tangents \u001b[39m=\u001b[39m forward_backward\u001b[39m.\u001b[39mforward()\n",
      "File \u001b[1;32mh:\\Anaconda-Installation\\Lib\\site-packages\\tensorflow\\python\\eager\\polymorphic_function\\atomic_function.py:196\u001b[0m, in \u001b[0;36mAtomicFunction.__call__\u001b[1;34m(self, *args)\u001b[0m\n\u001b[0;32m    194\u001b[0m \u001b[39mwith\u001b[39;00m record\u001b[39m.\u001b[39mstop_recording():\n\u001b[0;32m    195\u001b[0m   \u001b[39mif\u001b[39;00m \u001b[39mself\u001b[39m\u001b[39m.\u001b[39m_bound_context\u001b[39m.\u001b[39mexecuting_eagerly():\n\u001b[1;32m--> 196\u001b[0m     outputs \u001b[39m=\u001b[39m \u001b[39mself\u001b[39m\u001b[39m.\u001b[39m_bound_context\u001b[39m.\u001b[39mcall_function(\n\u001b[0;32m    197\u001b[0m         \u001b[39mself\u001b[39m\u001b[39m.\u001b[39mname,\n\u001b[0;32m    198\u001b[0m         \u001b[39mlist\u001b[39m(args),\n\u001b[0;32m    199\u001b[0m         \u001b[39mlen\u001b[39m(\u001b[39mself\u001b[39m\u001b[39m.\u001b[39mfunction_type\u001b[39m.\u001b[39mflat_outputs),\n\u001b[0;32m    200\u001b[0m     )\n\u001b[0;32m    201\u001b[0m   \u001b[39melse\u001b[39;00m:\n\u001b[0;32m    202\u001b[0m     outputs \u001b[39m=\u001b[39m make_call_op_in_graph(\u001b[39mself\u001b[39m, \u001b[39mlist\u001b[39m(args))\n",
      "File \u001b[1;32mh:\\Anaconda-Installation\\Lib\\site-packages\\tensorflow\\python\\eager\\context.py:1457\u001b[0m, in \u001b[0;36mContext.call_function\u001b[1;34m(self, name, tensor_inputs, num_outputs)\u001b[0m\n\u001b[0;32m   1455\u001b[0m cancellation_context \u001b[39m=\u001b[39m cancellation\u001b[39m.\u001b[39mcontext()\n\u001b[0;32m   1456\u001b[0m \u001b[39mif\u001b[39;00m cancellation_context \u001b[39mis\u001b[39;00m \u001b[39mNone\u001b[39;00m:\n\u001b[1;32m-> 1457\u001b[0m   outputs \u001b[39m=\u001b[39m execute\u001b[39m.\u001b[39mexecute(\n\u001b[0;32m   1458\u001b[0m       name\u001b[39m.\u001b[39mdecode(\u001b[39m\"\u001b[39m\u001b[39mutf-8\u001b[39m\u001b[39m\"\u001b[39m),\n\u001b[0;32m   1459\u001b[0m       num_outputs\u001b[39m=\u001b[39mnum_outputs,\n\u001b[0;32m   1460\u001b[0m       inputs\u001b[39m=\u001b[39mtensor_inputs,\n\u001b[0;32m   1461\u001b[0m       attrs\u001b[39m=\u001b[39mattrs,\n\u001b[0;32m   1462\u001b[0m       ctx\u001b[39m=\u001b[39m\u001b[39mself\u001b[39m,\n\u001b[0;32m   1463\u001b[0m   )\n\u001b[0;32m   1464\u001b[0m \u001b[39melse\u001b[39;00m:\n\u001b[0;32m   1465\u001b[0m   outputs \u001b[39m=\u001b[39m execute\u001b[39m.\u001b[39mexecute_with_cancellation(\n\u001b[0;32m   1466\u001b[0m       name\u001b[39m.\u001b[39mdecode(\u001b[39m\"\u001b[39m\u001b[39mutf-8\u001b[39m\u001b[39m\"\u001b[39m),\n\u001b[0;32m   1467\u001b[0m       num_outputs\u001b[39m=\u001b[39mnum_outputs,\n\u001b[1;32m   (...)\u001b[0m\n\u001b[0;32m   1471\u001b[0m       cancellation_manager\u001b[39m=\u001b[39mcancellation_context,\n\u001b[0;32m   1472\u001b[0m   )\n",
      "File \u001b[1;32mh:\\Anaconda-Installation\\Lib\\site-packages\\tensorflow\\python\\eager\\execute.py:53\u001b[0m, in \u001b[0;36mquick_execute\u001b[1;34m(op_name, num_outputs, inputs, attrs, ctx, name)\u001b[0m\n\u001b[0;32m     51\u001b[0m \u001b[39mtry\u001b[39;00m:\n\u001b[0;32m     52\u001b[0m   ctx\u001b[39m.\u001b[39mensure_initialized()\n\u001b[1;32m---> 53\u001b[0m   tensors \u001b[39m=\u001b[39m pywrap_tfe\u001b[39m.\u001b[39mTFE_Py_Execute(ctx\u001b[39m.\u001b[39m_handle, device_name, op_name,\n\u001b[0;32m     54\u001b[0m                                       inputs, attrs, num_outputs)\n\u001b[0;32m     55\u001b[0m \u001b[39mexcept\u001b[39;00m core\u001b[39m.\u001b[39m_NotOkStatusException \u001b[39mas\u001b[39;00m e:\n\u001b[0;32m     56\u001b[0m   \u001b[39mif\u001b[39;00m name \u001b[39mis\u001b[39;00m \u001b[39mnot\u001b[39;00m \u001b[39mNone\u001b[39;00m:\n",
      "\u001b[1;31mKeyboardInterrupt\u001b[0m: "
     ]
    }
   ],
   "source": [
    "# tf.config.run_functions_eagerly(True)\n",
    "# strategy = tf.distribute.MirroredStrategy()\n",
    "# model.add(tf.keras.layers.BatchNormalization(synchronized=True))\n",
    "\n",
    "model.fit(X, y, validation_split=0.1, epochs=300)\n",
    "model.save(\"models/image_colorization_cnn.model\")"
   ]
  },
  {
   "cell_type": "code",
   "execution_count": null,
   "metadata": {},
   "outputs": [],
   "source": [
    "# Needed if you are loading in the model here from local file directory\n",
    "model = tf.keras.models.load_model(\"models/image_colorization_cnn.model\",\n",
    "                                   custom_objects=None,\n",
    "                                   compile=True)"
   ]
  },
  {
   "cell_type": "code",
   "execution_count": null,
   "metadata": {},
   "outputs": [],
   "source": [
    "test_img_file_path = \"./datasets/testing/test_images/\"\n",
    "for index, file in enumerate(os.listdir(test_img_file_path)):\n",
    "    print(\"{}: {}\".format(index, test_img_file_path + file))\n",
    "    test_img_arr = []\n",
    "    test_img = load_img(test_img_file_path + file)\n",
    "    test_img = img_to_array(test_img)\n",
    "    test_img = resize(test_img, (224, 224), anti_aliasing=True)\n",
    "    test_img_arr.append(test_img)\n",
    "\n",
    "    test_img_arr = np.array(test_img_arr, dtype=float)\n",
    "    test_img_arr = rgb2lab((1.0 / 255) * test_img_arr)[:,:,:,0]\n",
    "    test_img_arr = test_img_arr.reshape(test_img_arr.shape + (1,))\n",
    "\n",
    "    predict_img = model.predict(test_img_arr) \n",
    "    predict_img *= 128\n",
    "\n",
    "    final_predict_color_img_result = np.zeros((224, 224, 3))\n",
    "    final_predict_color_img_result[:,:,0] = test_img_arr[0][:,:,0]\n",
    "    final_predict_color_img_result[:,:,1:] = predict_img[0]\n",
    "    imshow((lab2rgb(final_predict_color_img_result) * 255).astype(np.uint8))\n",
    "    imsave(\"result-{}.png\".format(index), (lab2rgb(final_predict_color_img_result) * 255).astype(np.uint8))"
   ]
  }
 ],
 "metadata": {
  "kernelspec": {
   "display_name": "base",
   "language": "python",
   "name": "python3"
  },
  "language_info": {
   "codemirror_mode": {
    "name": "ipython",
    "version": 3
   },
   "file_extension": ".py",
   "mimetype": "text/x-python",
   "name": "python",
   "nbconvert_exporter": "python",
   "pygments_lexer": "ipython3",
   "version": "3.11.4"
  },
  "orig_nbformat": 4
 },
 "nbformat": 4,
 "nbformat_minor": 2
}
