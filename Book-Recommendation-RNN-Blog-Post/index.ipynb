{
 "cells": [
  {
   "cell_type": "markdown",
   "metadata": {},
   "source": [
    "## Book Recommender System\n",
    "\n",
    "#### Author: Andrew Tran"
   ]
  },
  {
   "cell_type": "markdown",
   "metadata": {},
   "source": [
    "## Blog Post Inspiration and Objectives\n",
    "\n",
    "In this blog post, I was hoping to take on the classic beginner/intermediate challenge of creating a simple Machine Learning recommendation system, imitating ones used at Big-Tech companies such as Netflix. Additionally, with so many examples online about Machine Learning movie recommendation systems, I decided to look to establish this system on another area which has always piqued my interest: books. With that said, let's try to analyze and create this system with some Machine Learning:"
   ]
  },
  {
   "cell_type": "markdown",
   "metadata": {},
   "source": [
    "## Data Preprocessing - Cleaning and Analytics"
   ]
  },
  {
   "cell_type": "code",
   "execution_count": 2,
   "metadata": {},
   "outputs": [
    {
     "ename": "ModuleNotFoundError",
     "evalue": "No module named 'sklearn'",
     "output_type": "error",
     "traceback": [
      "\u001b[1;31m---------------------------------------------------------------------------\u001b[0m",
      "\u001b[1;31mModuleNotFoundError\u001b[0m                       Traceback (most recent call last)",
      "\u001b[1;32mh:\\Andrew Academics\\Coding-Projects\\CS 5805\\CS5805-ML1-FinalProject\\Book-Recommendation-RNN-Blog-Post\\Book-Recommendation-RNN-Blog-Post.ipynb Cell 4\u001b[0m line \u001b[0;36m8\n\u001b[0;32m      <a href='vscode-notebook-cell:/h%3A/Andrew%20Academics/Coding-Projects/CS%205805/CS5805-ML1-FinalProject/Book-Recommendation-RNN-Blog-Post/Book-Recommendation-RNN-Blog-Post.ipynb#W3sZmlsZQ%3D%3D?line=5'>6</a>\u001b[0m \u001b[39mimport\u001b[39;00m \u001b[39mseaborn\u001b[39;00m \u001b[39mas\u001b[39;00m \u001b[39msns\u001b[39;00m\n\u001b[0;32m      <a href='vscode-notebook-cell:/h%3A/Andrew%20Academics/Coding-Projects/CS%205805/CS5805-ML1-FinalProject/Book-Recommendation-RNN-Blog-Post/Book-Recommendation-RNN-Blog-Post.ipynb#W3sZmlsZQ%3D%3D?line=6'>7</a>\u001b[0m color \u001b[39m=\u001b[39m sns\u001b[39m.\u001b[39mcolor_palette()\n\u001b[1;32m----> <a href='vscode-notebook-cell:/h%3A/Andrew%20Academics/Coding-Projects/CS%205805/CS5805-ML1-FinalProject/Book-Recommendation-RNN-Blog-Post/Book-Recommendation-RNN-Blog-Post.ipynb#W3sZmlsZQ%3D%3D?line=7'>8</a>\u001b[0m \u001b[39mfrom\u001b[39;00m \u001b[39msklearn\u001b[39;00m\u001b[39m.\u001b[39;00m\u001b[39mmodel_selection\u001b[39;00m \u001b[39mimport\u001b[39;00m train_test_split\n\u001b[0;32m      <a href='vscode-notebook-cell:/h%3A/Andrew%20Academics/Coding-Projects/CS%205805/CS5805-ML1-FinalProject/Book-Recommendation-RNN-Blog-Post/Book-Recommendation-RNN-Blog-Post.ipynb#W3sZmlsZQ%3D%3D?line=8'>9</a>\u001b[0m \u001b[39mfrom\u001b[39;00m \u001b[39msklearn\u001b[39;00m\u001b[39m.\u001b[39;00m\u001b[39mmetrics\u001b[39;00m \u001b[39mimport\u001b[39;00m average_precision_score, roc_auc_score, precision_recall_fscore_support, confusion_matrix, classification_report\n\u001b[0;32m     <a href='vscode-notebook-cell:/h%3A/Andrew%20Academics/Coding-Projects/CS%205805/CS5805-ML1-FinalProject/Book-Recommendation-RNN-Blog-Post/Book-Recommendation-RNN-Blog-Post.ipynb#W3sZmlsZQ%3D%3D?line=9'>10</a>\u001b[0m \u001b[39mfrom\u001b[39;00m \u001b[39msklearn\u001b[39;00m\u001b[39m.\u001b[39;00m\u001b[39mmetrics\u001b[39;00m \u001b[39mimport\u001b[39;00m mean_squared_error, pairwise_distances\n",
      "\u001b[1;31mModuleNotFoundError\u001b[0m: No module named 'sklearn'"
     ]
    }
   ],
   "source": [
    "# Import needed libraries\n",
    "import numpy as np\n",
    "import pandas as pd\n",
    "import matplotlib.pyplot as plt\n",
    "%matplotlib inline\n",
    "import seaborn as sns\n",
    "color = sns.color_palette()\n",
    "from sklearn.model_selection import train_test_split\n",
    "from sklearn.metrics import average_precision_score, roc_auc_score, precision_recall_fscore_support, confusion_matrix, classification_report\n",
    "from sklearn.metrics import mean_squared_error, pairwise_distances\n",
    "from tensorflow.keras.models import Model\n",
    "from tensorflow.keras.layers import Input, Embedding, Flatten, dot\n",
    "from tensorflow.keras.optimizers import Adam\n",
    "plt.style.use(\"fivethirtyeight\")"
   ]
  },
  {
   "cell_type": "markdown",
   "metadata": {},
   "source": [
    "First, we will read and display all of the initial datasets in our file system for this blog post, downloaded from Kaggle. These datasets contains loads of valuable information such as Book-ISBNS, user-ids for the (anonymous) users/reviewers, book ratings, etc."
   ]
  },
  {
   "cell_type": "code",
   "execution_count": null,
   "metadata": {},
   "outputs": [],
   "source": [
    "# Reading and displaying all of the initial datasets\n",
    "books_df = pd.read_csv(\"datasets/Books.csv\")\n",
    "ratings_df = pd.read_csv(\"datasets/Ratings.csv\")\n",
    "users_df = pd.read_csv(\"datasets/Users.csv\")"
   ]
  },
  {
   "cell_type": "markdown",
   "metadata": {},
   "source": [
    "For clarity on the constraints and parameters of the working datasets, I went to find high-level exploratory statistics on all of the datasets: shape, information about all of the entries, etc."
   ]
  },
  {
   "cell_type": "code",
   "execution_count": null,
   "metadata": {},
   "outputs": [],
   "source": [
    "# Determining the shape of each of the initial datasets\n",
    "books_df.shape, ratings_df.shape, users_df.shape"
   ]
  },
  {
   "cell_type": "code",
   "execution_count": null,
   "metadata": {},
   "outputs": [],
   "source": [
    "# Figuring out all of the columns (and their names) available for me to use in the dataset\n",
    "books_df.columns, ratings_df.columns, users_df.columns"
   ]
  },
  {
   "cell_type": "code",
   "execution_count": null,
   "metadata": {},
   "outputs": [],
   "source": [
    "# Getting basic information about the all of the datasets\n",
    "books_df.info(), ratings_df.info(), users_df.info()"
   ]
  },
  {
   "cell_type": "code",
   "execution_count": null,
   "metadata": {},
   "outputs": [],
   "source": [
    "# Seeing each of the dataframes individually\n",
    "books_df"
   ]
  },
  {
   "cell_type": "code",
   "execution_count": null,
   "metadata": {},
   "outputs": [],
   "source": [
    "ratings_df"
   ]
  },
  {
   "cell_type": "code",
   "execution_count": null,
   "metadata": {},
   "outputs": [],
   "source": [
    "users_df"
   ]
  },
  {
   "cell_type": "markdown",
   "metadata": {},
   "source": [
    "Before I can pass the datasets over to the Machine Learning model for training and prediction, I had to consolidate all of my datasets into one so that it would be more easier and convenient to analyze. "
   ]
  },
  {
   "cell_type": "code",
   "execution_count": null,
   "metadata": {},
   "outputs": [],
   "source": [
    "# Remove any unnecessary columns (before merging)\n",
    "books_df.drop(columns=[\"Image-URL-S\", \"Image-URL-M\", \"Image-URL-L\"], axis=1, inplace=True)\n",
    "books_df"
   ]
  },
  {
   "cell_type": "code",
   "execution_count": null,
   "metadata": {},
   "outputs": [],
   "source": [
    "# Merge the books and ratings dataframes to have one & inclusive dataframe, \n",
    "# combining all book, user, and rating information\n",
    "df = pd.merge(books_df, ratings_df, on=\"ISBN\")\n",
    "df"
   ]
  },
  {
   "cell_type": "markdown",
   "metadata": {},
   "source": [
    "Additionally, before handing my combined Book dataset over for Machine Learning training and prediction, I need to clean the data prior to the analysis stage: removing duplicates, deleting null/NaN vales, fixing types of columns, filling invalid values with suitable alternatives, etc. Fortunately, the data inherited from Kaggle here is in a preferable format already, so there does not need to be extensive amount of data cleaning here."
   ]
  },
  {
   "cell_type": "code",
   "execution_count": null,
   "metadata": {},
   "outputs": [],
   "source": [
    "# Figuring out the number of duplicated elements in the dataset (could be \n",
    "# problematic if not resolved)\n",
    "df.duplicated().sum()"
   ]
  },
  {
   "cell_type": "code",
   "execution_count": null,
   "metadata": {},
   "outputs": [],
   "source": [
    "# Figuring out the number of 'null'/'NaN' elements in the dataset (if NaN \n",
    "# filling is needed or not)\n",
    "(df.isnull().sum() / df.shape[0]) * 100"
   ]
  },
  {
   "cell_type": "code",
   "execution_count": null,
   "metadata": {},
   "outputs": [],
   "source": [
    "# Fill unknown and unformatted values with proper ones for readability and to\n",
    "# improve data accuracy and relevance \n",
    "df[\"Book-Author\"].fillna(\"N/A\", inplace=True)\n",
    "df[\"Publisher\"].fillna(\"N/A\", inplace=True)\n",
    "\n",
    "df[\"Year-Of-Publication\"] = df[\"Year-Of-Publication\"].astype(str)\n",
    "df[\"Year-Of-Publication\"] = df[\"Year-Of-Publication\"].map(lambda entry: entry if entry.isnumeric() else df[\"Year-Of-Publication\"].mode()[0])\n",
    "df[\"Year-Of-Publication\"] = df[\"Year-Of-Publication\"].astype(\"int64\")\n",
    "\n",
    "# Change types of columns to allow an easier time to parse\n",
    "df[\"Book-Title\"] = df[\"Book-Title\"].astype(str)\n",
    "df[\"Book-Author\"] = df[\"Book-Author\"].astype(str)\n",
    "df[\"ISBN\"] = df[\"ISBN\"].astype(str)\n",
    "df[\"Publisher\"] = df[\"Publisher\"].astype(str)\n",
    "\n",
    "# Getting basic information about the dataset (once again)\n",
    "df.info()"
   ]
  },
  {
   "cell_type": "markdown",
   "metadata": {},
   "source": [
    "As defined in the code snippet below, with subsequent modifications and copies of the working dataset, there will be a need to quantify the status and real-life/applicable statistics out to you, the user. Thus, I designed a function to report needed information called `report_basic_stats`. From time to time, there will be calls to this function, giving up-to-date information about the state of the dataset currently modified."
   ]
  },
  {
   "cell_type": "code",
   "execution_count": null,
   "metadata": {},
   "outputs": [],
   "source": [
    "def report_basic_stats(dataframe: pd.DataFrame, type: str):\n",
    "    global n_users, n_books\n",
    "    n_users = dataframe[\"User-ID\"].unique().shape[0]\n",
    "    n_books = dataframe[\"ISBN\"].unique().shape[0]\n",
    "    n_ratings = len(dataframe[\"Book-Rating\"])\n",
    "    avg_num_ratings_per_user = n_ratings / n_users\n",
    "    \n",
    "    print(\"Number of Unique Book Users in This Dataset ({}):\".format(type), n_users)\n",
    "    print(\"Number of Unique Book Titles / ISBNs in This Dataset ({}):\".format(type), n_books)\n",
    "    print(\"Number of Total Ratings in This Dataset ({}):\".format(type), n_ratings)\n",
    "    print(\"Average Number of Book Ratings per User in This Dataset ({}):\".format(type), round(avg_num_ratings_per_user, 3))"
   ]
  },
  {
   "cell_type": "markdown",
   "metadata": {},
   "source": [
    "Alright, let's begin by looking at the up-to-date information about the state of the original dataset using the `report_basic_stats` function:"
   ]
  },
  {
   "cell_type": "code",
   "execution_count": null,
   "metadata": {},
   "outputs": [],
   "source": [
    "report_basic_stats(df, \"Regular\")"
   ]
  },
  {
   "cell_type": "markdown",
   "metadata": {},
   "source": [
    "At this point, the data has been cleaned. However, there are some modifications that I have considered in this case such as limiting the amount of Book-ISBNs and Book-Users displayed (up to 3000 in this case). This is intentional to keep the dataset from becoming too long to visualize and compute within the Machine Learning model."
   ]
  },
  {
   "cell_type": "code",
   "execution_count": null,
   "metadata": {},
   "outputs": [],
   "source": [
    "# Filter the first 3000 Book-ISBNs in Dataset\n",
    "book_isbn_index = df.groupby(\"ISBN\").count().sort_values(by=\"Book-Rating\", ascending=False)[0:3000].index\n",
    "df2 = df[df[\"ISBN\"].isin(book_isbn_index)]\n",
    "df2.count()"
   ]
  },
  {
   "cell_type": "code",
   "execution_count": null,
   "metadata": {},
   "outputs": [],
   "source": [
    "# Filter the first 3000 Book-Users in Dataset\n",
    "book_users_index = df2.groupby(\"User-ID\").count().sort_values(by=\"Book-Rating\", ascending=False)[0:3000].index\n",
    "df3 = df2[df2[\"User-ID\"].isin(book_users_index)]\n",
    "df3.count()"
   ]
  },
  {
   "cell_type": "markdown",
   "metadata": {},
   "source": [
    "Since I had to cut down to 3000 Book-entries maximum in the dataset, I had to reindex the unique Book-ISBNs and Book User-IDs to account for this filtering. Thus, I removed all entries that were not part of this subset to maintain data consistency and integrity."
   ]
  },
  {
   "cell_type": "code",
   "execution_count": null,
   "metadata": {},
   "outputs": [],
   "source": [
    "# Make a separate dataframe for unique Book-ISBNs\n",
    "book_isbns = df3[\"ISBN\"].unique()\n",
    "isbn_df = pd.DataFrame(data=book_isbns, columns=[\"Original-ISBN\"])\n",
    "isbn_df[\"New-ISBN\"] = isbn_df.index + 1"
   ]
  },
  {
   "cell_type": "code",
   "execution_count": null,
   "metadata": {},
   "outputs": [],
   "source": [
    "# Make a separate dataframe for unique Book-Users (indicated by their IDs)\n",
    "book_users = df3[\"User-ID\"].unique()\n",
    "users_df = pd.DataFrame(data=book_users, columns=[\"Original-User-ID\"])\n",
    "users_df[\"New-User-ID\"] = users_df.index + 1"
   ]
  },
  {
   "cell_type": "code",
   "execution_count": null,
   "metadata": {},
   "outputs": [],
   "source": [
    "# Merge in new indices for Book-ISBN and Book-User-IDs that are modified\n",
    "# from 1 to 3000 (accounts for scaling down of data)\n",
    "cleaned_df = df3.merge(isbn_df, left_on=\"ISBN\", right_on=\"Original-ISBN\")\n",
    "cleaned_df.drop(columns=[\"Original-ISBN\"], axis=1, inplace=True)\n",
    "\n",
    "cleaned_df = cleaned_df.merge(users_df, left_on=\"User-ID\", right_on=\"Original-User-ID\")\n",
    "cleaned_df.drop(columns=[\"Original-User-ID\"], axis=1, inplace=True)\n",
    "cleaned_df"
   ]
  },
  {
   "cell_type": "markdown",
   "metadata": {},
   "source": [
    "Here, I am trying to offer some visualizations of the cleaned dataset before we pass it over for Machine Learning training and prediction. The first visualization (below) describes about the total number of reviews given to each of the 3000 books in the dataset. Arbitrarily though, I set a maximum of 30 book titles visualized to save space as my editor could not plot more than that without it become illegible. The strategy there was grouping by Book-Titles and and counting number of Book-Rating entries for that particular Book entry."
   ]
  },
  {
   "cell_type": "code",
   "execution_count": null,
   "metadata": {},
   "outputs": [],
   "source": [
    "# Make a copy of the cleaned dataframe\n",
    "cleaned_df_condensed_trends = cleaned_df.copy()\n",
    "\n",
    "# Drop unnecessary columns\n",
    "cleaned_df_condensed_trends.drop(labels=[\"ISBN\", \n",
    "                                         \"Book-Author\",\n",
    "                                         \"Year-Of-Publication\",\n",
    "                                         \"Publisher\",\n",
    "                                         \"User-ID\",\n",
    "                                         \"New-ISBN\",\n",
    "                                         \"New-User-ID\"], axis=1, inplace=True)\n",
    "\n",
    "# Used grouping and counting to gather book-review counts for each indexed title\n",
    "cleaned_df_condensed_trends_copy = cleaned_df_condensed_trends.copy()\n",
    "cleaned_df_condensed_trends = pd.DataFrame(cleaned_df_condensed_trends_copy\n",
    "                                           .groupby(\"Book-Title\")[\"Book-Rating\"]\n",
    "                                           .mean())\n",
    "cleaned_df_condensed_trends[\"Total-Num-Of-Ratings\"] = pd.DataFrame(cleaned_df_condensed_trends_copy\n",
    "                                                                   .groupby(\"Book-Title\")[\"Book-Rating\"]\n",
    "                                                                   .count())\n",
    "cleaned_df_condensed_trends.head(10)"
   ]
  },
  {
   "cell_type": "code",
   "execution_count": null,
   "metadata": {},
   "outputs": [],
   "source": [
    "# Creating a bar graph describing number of reviews for first 30 books\n",
    "plt.figure(figsize=(10, 8))\n",
    "ax=plt.subplot()\n",
    "ax.bar(cleaned_df_condensed_trends.head(30).index,\n",
    "       cleaned_df_condensed_trends[\"Total-Num-Of-Ratings\"].head(30), \n",
    "       color=\"b\")\n",
    "ax.set_xticklabels(cleaned_df_condensed_trends.index,\n",
    "                   rotation=30,\n",
    "                   fontsize=\"12\",\n",
    "                   horizontalalignment=\"right\")\n",
    "ax.set_title(\"Total Number of Reviews For Each Book\")\n",
    "plt.show()"
   ]
  },
  {
   "cell_type": "markdown",
   "metadata": {},
   "source": [
    "Just to give an interesting statistic, I decided to make another copy of the working dataset, grouped by Book-Title but sorted by Book-Rating. This was intentional to output and report the most-popular (Top-50 rated books) and least-populat (Bottom-50 rated books) on average, which is an important piece of data for the user to know."
   ]
  },
  {
   "cell_type": "code",
   "execution_count": null,
   "metadata": {},
   "outputs": [],
   "source": [
    "# Calculate mean rating of all books (copy of cleaned dataframe)\n",
    "# Output the Top-50 and Bottom-50 rated books on average\n",
    "cleaned_df_sorted_mean_rating = cleaned_df.copy().groupby(\"Book-Title\")[\"Book-Rating\"].mean().sort_values(ascending=False)\n",
    "print(\"--------- Sorted by Mean On Average: ---------\\n\")\n",
    "print(\"--------- TOP 50: ---------\\n\", cleaned_df_sorted_mean_rating.head(50))\n",
    "print(\"\\n\\n--------- BOTTOM 50: ---------\\n\", cleaned_df_sorted_mean_rating.tail(50))"
   ]
  },
  {
   "cell_type": "markdown",
   "metadata": {},
   "source": [
    "The second visualization gathers all of the numerical book-ratings across all books, contrasting how book reviewers score and evaluate these literature text sources generally. With this ranged data, it would seem most appropriate to display this visualization of statistical data within a histogram.  "
   ]
  },
  {
   "cell_type": "code",
   "execution_count": null,
   "metadata": {},
   "outputs": [],
   "source": [
    "sns.histplot(pd.DataFrame(cleaned_df_sorted_mean_rating)[\"Book-Rating\"], color=\"r\")\n",
    "plt.title(\"Histogram - Distribution of Book-Ratings Across All Books in the Dataset\")\n",
    "plt.show()"
   ]
  },
  {
   "cell_type": "markdown",
   "metadata": {},
   "source": [
    "As compared to earlier, let's look at the up-to-date information about the state of the reduced (in-size) dataset using the `report_basic_stats` function."
   ]
  },
  {
   "cell_type": "code",
   "execution_count": null,
   "metadata": {},
   "outputs": [],
   "source": [
    "report_basic_stats(cleaned_df, \"Reduced\")"
   ]
  },
  {
   "cell_type": "markdown",
   "metadata": {},
   "source": [
    "## Machine Learning - Model Training and Evaluation"
   ]
  },
  {
   "cell_type": "markdown",
   "metadata": {},
   "source": [
    "Great, now we are onto the Machine Learning part of the blog post!"
   ]
  },
  {
   "cell_type": "markdown",
   "metadata": {},
   "source": [
    "Since the dataframe is now properly cleaned by this point, I had split the respective dataframe into the train, test, and validation datasets for the Machine Learning model with 90% going to the training dataset, the next 5% going to the validation dataset, and the last 5% going to the test dataset. Fortunately, because order of the data sequentially does not matter here, I was able to utilize the `train_test_split` function for shuffling and randomization, making the future-generated Machine Learning model more unpredictable but also more objective in its returned model results."
   ]
  },
  {
   "cell_type": "code",
   "execution_count": null,
   "metadata": {},
   "outputs": [],
   "source": [
    "# Configuring the Machine Learning Tensorflow Model by splitting the data 90% for testing,\n",
    "# 5% for validation, and 5% for testing\n",
    "X_train, X_test = train_test_split(cleaned_df, test_size=0.10, shuffle=True, random_state=2018)\n",
    "X_val, X_test = train_test_split(X_test, test_size=0.50, shuffle=True, random_state=2018)"
   ]
  },
  {
   "cell_type": "code",
   "execution_count": null,
   "metadata": {},
   "outputs": [],
   "source": [
    "# Outputting the shape of the new datasets\n",
    "print(\"Shape of Training Set:\", X_train.shape, \"and Size of Training Set:\", X_train.size)\n",
    "print(\"Shape of Validation Set:\", X_val.shape, \"and Size of Validation Set:\", X_val.size)\n",
    "print(\"Shape of Test Set:\", X_test.shape, \"and Size of Testing Set:\", X_test.size)"
   ]
  },
  {
   "cell_type": "markdown",
   "metadata": {},
   "source": [
    "As recommended online for any Collaborative-Filtering Recommendation Systems, one suggestion was to manually check and compute the `mean_squared_error` for ratings in your dataset. Thus, I defined a cost function that utilizes a sparse `np.array` starting with all 0's of dimension-size `n_users x n_books`.  The entries at specified locations would be converted non-zero by utilizing every Book-ISBN and Book User-ID position to generate a computed rating. The objective with calculating the `mean_squared_error` is to check how close estimates are to actual, observed values found within the given dataset."
   ]
  },
  {
   "cell_type": "code",
   "execution_count": null,
   "metadata": {},
   "outputs": [],
   "source": [
    "# Define my cost function (mean-squared error) for each dataset before the\n",
    "# invokation of the Machine Learning algorithm\n",
    "df_ratings_train = np.zeros((n_users, n_books))\n",
    "for r in X_train.itertuples():\n",
    "    df_ratings_train[r[9] - 1, r[8] - 1] = r[7]\n",
    "print(df_ratings_train.shape)\n",
    "df_ratings_train"
   ]
  },
  {
   "cell_type": "code",
   "execution_count": null,
   "metadata": {},
   "outputs": [],
   "source": [
    "df_ratings_validation = np.zeros((n_users, n_books))\n",
    "for r in X_val.itertuples():\n",
    "    df_ratings_validation[r[9] - 1, r[8] - 1] = r[7]\n",
    "print(df_ratings_validation.shape)\n",
    "df_ratings_validation"
   ]
  },
  {
   "cell_type": "code",
   "execution_count": null,
   "metadata": {},
   "outputs": [],
   "source": [
    "df_ratings_test = np.zeros((n_users, n_books))\n",
    "for r in X_test.itertuples():\n",
    "    df_ratings_test[r[9] - 1, r[8] - 1] = r[7]\n",
    "print(df_ratings_test.shape)\n",
    "df_ratings_test"
   ]
  },
  {
   "cell_type": "markdown",
   "metadata": {},
   "source": [
    "After the dataframes had the cost function computed for all, I made 2 matrices - one for the book user-similiarity and one for the book item-similarity. The idea here is to account for relative difference in the ratings between several distinct Book-Users and Book-ISBNs (items) themselves. Statically proven, relative differences in ratings give more insight than the absolute rating values. As described on the CambridgeSpark reference below, the rating system could be skewed by human biases such as solid consistent ratings for good vs. bad books through cover inspection, ratings based on topic preference or thoughts on the user's views rather than objective review, etc. \n",
    "\n",
    "Note that in the user-based similarity predictions that ratings as weights need to be normalized, so summation and average on top of a dot-product calcuation on the matrix is needed. This is to make sure the ratings stay within the expected range of 1.0 (worst) to 10.0 (best).\n",
    "\n",
    "At the end of the code cell below, a comparison on the prediction matrices with the `df_ratings_test` matrix using dimensionality reduction and the `mean_squared_error` function the `sklearn.metrics` module is computed to quantify the closeness of estimates to the actual dataset (as described previously)."
   ]
  },
  {
   "cell_type": "code",
   "execution_count": null,
   "metadata": {},
   "outputs": [],
   "source": [
    "# Computes the cosine similarity between all books using pairwise distancing\n",
    "book_user_similarity = pairwise_distances(df_ratings_train, metric=\"cosine\")\n",
    "book_item_similarity = pairwise_distances(df_ratings_train.T, metric=\"cosine\")\n",
    "\n",
    "# Calculates prediction ratio for book_users and book_items\n",
    "def perform_prediction_similarity_based(ratings, similiarity, pred_type=\"user\"):\n",
    "    if pred_type == \"user\":\n",
    "        mean_user_rating = ratings.mean(axis=1)\n",
    "        # You use np.newaxis so that the user_rating has the same format as ratings\n",
    "        ratings_diff = (ratings - mean_user_rating[: np.newaxis])\n",
    "        pred = mean_user_rating[: np.newaxis] + (similiarity.dot(ratings_diff) / np.array([np.abs(similiarity).sum(axis=1)]))\n",
    "    elif pred_type == \"item\":\n",
    "        pred = ratings.dot(similiarity) / np.array([np.abs(similiarity).sum(axis=1)])\n",
    "    return pred\n",
    "\n",
    "book_user_prediction = perform_prediction_similarity_based(df_ratings_train, book_user_similarity, pred_type=\"user\")\n",
    "book_item_prediction = perform_prediction_similarity_based(df_ratings_train, book_item_similarity, pred_type=\"item\")\n",
    "\n",
    "# Using predictions, calculates the mean squared error for each book_user and\n",
    "# book_item\n",
    "def compute_mean_square_error(predicted, actual):\n",
    "    predicted = predicted[actual.nonzero()].flatten()\n",
    "    actual = actual[actual.nonzero()].flatten()\n",
    "    return mean_squared_error(predicted, actual)\n",
    "\n",
    "print(\"For Collaborative Filtering:\")\n",
    "print(f\"Book User-Based Mean-Square-Error: {compute_mean_square_error(book_user_prediction, df_ratings_test)}\")\n",
    "print(f\"Book Item-Based Mean-Square-Error: {compute_mean_square_error(book_item_prediction, df_ratings_test)}\")"
   ]
  },
  {
   "cell_type": "markdown",
   "metadata": {},
   "source": [
    "One other calculation that is beneficial to check with regards to these matrices includes matrix sparsity. With a less sparse matrix (through a lower-percentage return), I found that it was more beneficial to more efficient to use dense Machine Learning representations and algorithms optimized for dense data, which will done later while creating the Sequential layering of the model. After performing the calculations below, this seemed to be the case I was dealing with here."
   ]
  },
  {
   "cell_type": "code",
   "execution_count": null,
   "metadata": {},
   "outputs": [],
   "source": [
    "# Outputs the sparsity stats of a given dataframe\n",
    "def print_sparsity_stats(df: pd.DataFrame, type: str):\n",
    "    print(\"-------------- Sparsity Stats for {}: --------------\".format(type))\n",
    "    df_sparsity = float(len(df.nonzero()[0]))\n",
    "    df_sparsity /= (df.shape[0] * df.shape[1])\n",
    "    df_sparsity *= 100\n",
    "    print('Sparsity: {:4.2f}%'.format(df_sparsity))"
   ]
  },
  {
   "cell_type": "code",
   "execution_count": null,
   "metadata": {},
   "outputs": [],
   "source": [
    "# Check the sparsity stats of the ratings' train, validation, and test np.arrays\n",
    "print_sparsity_stats(df_ratings_train, \"Train\")\n",
    "print_sparsity_stats(df_ratings_validation, \"Validation\")\n",
    "print_sparsity_stats(df_ratings_test, \"Test\")"
   ]
  },
  {
   "cell_type": "markdown",
   "metadata": {},
   "source": [
    "Now, I began to configure the Machine Learning model. We added Sequential layers of Input: incorporated an Input layer 1 by 1 because I only had 1 `np.array` as Input for Book-Users and another one as Input for Book-Items themselves, utilize a Embedding as recommended for each of the Input layers for models like these, and I followed up with flattening for dimensionality-reduction of both embeddings with input. Combining it with the dot-product of the two vector embeddings with input to make the initial model, we compiled it, utilzing the `mean_square_error` as our minimizing loss function, using the `Adam` optimizer, and comparing our trained model against our data with the `mean_absolute_error` metric. Lastly, I fitted our model, utilzing both of our X_train datasets and the Y_train dataset for fitting with validation from both of our X_val datasets and the Y_val dataset at 100 epochs."
   ]
  },
  {
   "cell_type": "code",
   "execution_count": null,
   "metadata": {},
   "outputs": [],
   "source": [
    "# Apply the Input, Embeddings, and Dot Product on the Model\n",
    "n_latent_fact = 1\n",
    "user_input = Input(shape=[1], name=\"User\")\n",
    "user_embedding = Embedding(input_dim=n_users + 1, \n",
    "                           output_dim=n_latent_fact, \n",
    "                           name=\"User_Embedding\")(user_input)\n",
    "user_vec = Flatten(name=\"Flatten_Users\")(user_embedding)\n",
    "book_input = Input(shape=[1], name=\"Book\")\n",
    "book_embedding = Embedding(input_dim=n_books + 1, \n",
    "                           output_dim=n_latent_fact, \n",
    "                           name=\"Book_Embedding\")(book_input)\n",
    "book_vec = Flatten(name=\"Flatten_Movies\")(book_embedding)\n",
    "dot_product = dot([book_vec, user_vec], axes=1)\n",
    "model = Model(inputs=[user_input, book_input], outputs=dot_product)\n",
    "\n",
    "# Compile the model and fit the datasets to it\n",
    "model.compile(loss=\"mse\",\n",
    "              optimizer=Adam(learning_rate=0.001),\n",
    "              metrics=[\"mean_absolute_error\"])\n",
    "\n",
    "book_rec_history = model.fit(x=(X_train[\"New-User-ID\"], X_train[\"New-ISBN\"]), \n",
    "                             y=X_train[\"Book-Rating\"],\n",
    "                             epochs=100,\n",
    "                             validation_data=([X_val[\"New-User-ID\"], X_val[\"New-ISBN\"]], X_val[\"Book-Rating\"]),\n",
    "                             use_multiprocessing=True)"
   ]
  },
  {
   "cell_type": "markdown",
   "metadata": {},
   "source": [
    "To measure the change in the `mean_absolute_error` statistic within my epochs (or run through the datasets) during the attempt to fit the Machine Learning model above as they were being completed, I made a line-graph visualization to see the fluctuation in the error as shown below. "
   ]
  },
  {
   "cell_type": "code",
   "execution_count": null,
   "metadata": {},
   "outputs": [],
   "source": [
    "# Plot the Validation Mean Absolute Error throughout the fitting of the model across epochs\n",
    "pd.Series(book_rec_history.history[\"val_loss\"][15:]).plot(logy=False, color=\"gold\")\n",
    "plt.xlabel(\"Epoch\")\n",
    "plt.ylabel(\"Validation Error\")\n",
    "plt.title(\"Change in Validation Mean Absolute Error Across Epochs\")\n",
    "plt.show()\n",
    "\n",
    "print(\"Minimum MSE:\", min(book_rec_history.history[\"val_loss\"]))"
   ]
  },
  {
   "cell_type": "markdown",
   "metadata": {},
   "source": [
    "With the Machine Learning model fitted, it would be a good time to evaluate the effectiveness of my model. Thus, I will calculate metrics (as shown below) such as `Precision Score`, `ROC-AUC (Receiver Operating Characteristic (Curve) - Area Under the Curve) Score`, `F1 Score`, `Recall Score`, and the `Confusion Matrix`. For the classification metrics, I applied a threshold rating of 5.0 or above to indicate as an acceptable rating to recommend a book, based on the logic that there would be more positive than negative reviews for that book-title, on average. All of the calcuations are shown in the following code snippet as well as its corresponding visualizations."
   ]
  },
  {
   "cell_type": "code",
   "execution_count": null,
   "metadata": {},
   "outputs": [],
   "source": [
    "predicted_ratings = model.predict(x=(X_test[\"New-User-ID\"], X_test[\"New-ISBN\"])).flatten()\n",
    "\n",
    "book_rec_history_model_loss, book_rec_history_model_accuracy = model.evaluate(x=(X_test[\"New-User-ID\"], X_test[\"New-ISBN\"]), y=X_test[\"Book-Rating\"])\n",
    "book_rec_history_model_accuracy /= 10\n",
    "\n",
    "# Threshold the predicted ratings to binary-classified recommendations (e.g., using a threshold of >= 5 for recommending book)\n",
    "threshold = 5\n",
    "predicted_labels_bin_classify = (predicted_ratings.copy() >= threshold).astype(int)\n",
    "actual_labels_bin_classify = (X_test[\"Book-Rating\"].copy() >= threshold).astype(int)\n",
    "\n",
    "actual_ratings_int = predicted_labels_bin_classify.copy().astype(int)\n",
    "predicted_ratings_int = actual_labels_bin_classify.copy().astype(int)\n",
    "clf_report = pd.DataFrame(classification_report(y_true=actual_ratings_int, y_pred=predicted_ratings_int, output_dict=True, zero_division=0))\n",
    "\n",
    "y_test_book_rating = predicted_labels_bin_classify\n",
    "y_pred_book_rating = actual_labels_bin_classify\n",
    "\n",
    "avg_precision_score = average_precision_score(y_true=actual_labels_bin_classify, y_score=predicted_labels_bin_classify)\n",
    "\n",
    "# Compute and output statistics for Average Precision, Accuracy, and ROC AUC Scores as well as the Classifcation Report\n",
    "print(f\"Average Precision Score (When Compared to Test Set): {avg_precision_score * 100:.2f}%\")\n",
    "print(\"_______________________________________________\")\n",
    "print(f\"Accuracy Score (When Compared to Test Set): {book_rec_history_model_accuracy * 100:.2f}%)\")\n",
    "print(\"_______________________________________________\")\n",
    "print(f\"ROC AUC Score: {roc_auc_score(y_test_book_rating, y_pred_book_rating) * 100:.2f}%\")\n",
    "print(\"_______________________________________________\")\n",
    "print(f\"CLASSIFICATION REPORT:\\n{clf_report}\")\n",
    "\n",
    "# Calculate and output Precision, Recall, F1-Score, and Confusion Matrix\n",
    "precision, recall, f1_score, _ = precision_recall_fscore_support(y_true=actual_labels_bin_classify, y_pred=predicted_labels_bin_classify, average='binary')\n",
    "model_performance_metrics: [str] = [\"Precision\", \"Recall\", \"F1_Score\"]\n",
    "model_performance_metrics_values: [float] = [precision, recall, f1_score]\n",
    "print(\"_______________________________________________\")\n",
    "print(f\"Precision Score: {precision * 100:.2f}%\")\n",
    "print(\"_______________________________________________\")\n",
    "print(f\"Recall Score: {recall * 100:.2f}%\")\n",
    "print(\"_______________________________________________\")\n",
    "print(f\"F1 Score: {f1_score * 100:.2f}%\")\n",
    "print(\"_______________________________________________\")\n",
    "print(f\"Confusion Matrix:\\n{confusion_matrix(y_test_book_rating, y_pred_book_rating)}\")\n",
    "\n",
    "plt.figure(figsize=(10, 8))\n",
    "plt.bar(model_performance_metrics, model_performance_metrics_values, color=[\"blue\", \"green\", \"orange\"])\n",
    "plt.xlabel(\"Metrics\")\n",
    "plt.ylabel(\"Score\")\n",
    "plt.title(\"Recommendation Model Evaluation Metrics\")\n",
    "plt.show()\n",
    "\n",
    "# Create the confusion matrix\n",
    "conf_matrix = confusion_matrix(y_test_book_rating, y_pred_book_rating)\n",
    "\n",
    "# Plot the confusion matrix\n",
    "plt.figure(figsize=(10, 8))\n",
    "sns.heatmap(conf_matrix, annot=True, fmt='d', cmap='Blues')\n",
    "plt.xlabel('Predicted Label')\n",
    "plt.ylabel('Actual Label')\n",
    "plt.title('Confusion Matrix')\n",
    "plt.show()"
   ]
  },
  {
   "cell_type": "markdown",
   "metadata": {},
   "source": [
    "## Conclusions\n",
    "\n",
    "- Based on the `Accuracy Score` at `25.75%`, `Precision Score` at `68.86%`, and Recall Score at `25.51%`, I found that my simple Book Recommendation Machine Learning model was not as good as I hoped in utilzing the train and validation datasets to fit my model in order to evaluate with my testing dataset. Looking at back my steps / approach, I realize that I may have overfitted by a great amount by training my Machine Learning model above approximately 10-15 epochs. When looking closely at the `Change in Validation Mean Absolute Error Across Epochs` Visualization, the validation error (i.e. the validation loss) was at its lowest in this duration and only went up from there in subsequent epoch training iterations. I would most likely re-train the model if I did this blog post project again.\n",
    "\n",
    "- Utimately, I learned a great deal from this blog post as I now better understand how basic Input/Embeddings/Output from `Tensorflow` works in the topic of neural networks in Machine Learning. Of course, seeing the real life implications of recommendation systems like this (but scaled up on a much higher, economic level) makes me appreciate the complexity of this disclipine and ML-subfield because reaching the end of this blog post was nonetheless difficult for my basic implementation. I cannot imagine what it must be like to have to maintain larger, production-critical systems that tackle these problems on a daily basis."
   ]
  },
  {
   "cell_type": "markdown",
   "metadata": {},
   "source": [
    "## Reference Sources and Citations (IEEE Format)\n",
    "\n",
    "To complete this blog post, I used the following online sources as references for developing this:\n",
    "\n",
    "[1] Book Recommendation Dataset:\n",
    "\n",
    "Möbius, \"Book Recommendation Dataset\", Apr.-2023. [Online]. Available: https://www.kaggle.com/datasets/arashnic/book-recommendation-dataset. [Accessed: 25-Sep.-2023].\n",
    "\n",
    "[2] Tutorial on Basics of Machine Learning Recommendation Systems:\n",
    "\n",
    "M. Ahammad, \"Movie Recommender Systems Using Neural Network,\" 2020. [Online]. Available: https://www.kaggle.com/code/mejbahahammad/movie-recommender-systems-using-neural-network. [Accessed: 25-Sep.-2023].\n",
    "\n",
    "[3] Tutorial on Sample Visualizations for Machine Learning Recommendation Systems:\n",
    "\n",
    "Great Learning Team, \"Excerpts From a Masterclass on Movie Recommendation System,\" 22-Aug.-2022. Available: https://www.mygreatlearning.com/blog/masterclass-on-movie-recommendation-system/. [Accessed: 26-Sep.2023].\n",
    "\n",
    "[4] Tutorial on Evaluating Machine Learning Recommendation Systems:\n",
    "\n",
    "A. Johannsdottir, \"Implementing Your Own Recommmender Systems in Python\", 28-Nov.-2019. Available: https://www.cambridgespark.com/info/recommender-systems-in-python. [Accessed: 27-Sep.2023]."
   ]
  }
 ],
 "metadata": {
  "kernelspec": {
   "display_name": "base",
   "language": "python",
   "name": "python3"
  },
  "language_info": {
   "codemirror_mode": {
    "name": "ipython",
    "version": 3
   },
   "file_extension": ".py",
   "mimetype": "text/x-python",
   "name": "python",
   "nbconvert_exporter": "python",
   "pygments_lexer": "ipython3",
   "version": "3.11.4"
  },
  "orig_nbformat": 4
 },
 "nbformat": 4,
 "nbformat_minor": 2
}
