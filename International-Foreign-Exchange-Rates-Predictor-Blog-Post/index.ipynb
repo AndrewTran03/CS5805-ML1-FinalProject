{
  "cells": [
    {
      "cell_type": "raw",
      "metadata": {},
      "source": [
        "---\n",
        "execute:\n",
        "  echo: fenced\n",
        "title: Auctioning Used-Car Classifier\n",
        "toc: true\n",
        "toc-title: Table of Contents\n",
        "format:\n",
        "  html:\n",
        "    embed-resources: true\n",
        "    code-copy: true\n",
        "    code-link: true\n",
        "    code-tools: true\n",
        "    theme:\n",
        "      dark: darkly\n",
        "      light: flatly\n",
        "  docx: default\n",
        "  ipynb: default\n",
        "  gfm: default\n",
        "---"
      ],
      "id": "5d3c95f9"
    },
    {
      "cell_type": "markdown",
      "metadata": {},
      "source": [
        "<!-- title: \"Auctioning Used-Car Classifier\"\n",
        "format:\n",
        "  html:\n",
        "    code-fold: true\n",
        "jupyter: python3 -->\n",
        "\n",
        "\n",
        "#### Author: Andrew Tran\n",
        "\n",
        "\n",
        "## Blog Post Inspiration and Objectives\n",
        "\n",
        "In this blog post, I was hoping to look into using Machine Learning to make a prediction system. In particular, I was hoping to imitate ones used for stock prediction. However, since there were too many tutorials on this topic, I decided to investigate into another global, financial factor that governs trade internationally: international currency rates. In the news recently, I have heard rumors of how the international standard of utilizing the US dollar could be compromised with other global powers such as China and India rise in global dominance. Thus, I focused my efforts on analyzing the US currency conversion rates to other countries. With that said, let's try to analyze this topic with some Machine Learning:\n",
        "\n",
        "## Data Preprocessing - Cleaning and Analytics\n"
      ],
      "id": "bb0ae03d"
    },
    {
      "cell_type": "code",
      "metadata": {},
      "source": [
        "# Import needed libraries\n",
        "import numpy as np\n",
        "import pandas as pd\n",
        "import matplotlib.pyplot as plt\n",
        "from tensorflow.keras.models import Sequential\n",
        "from tensorflow.keras.optimizers import Adam\n",
        "from tensorflow.keras import layers\n",
        "from copy import deepcopy\n",
        "import datetime as dt\n",
        "plt.style.use(\"fivethirtyeight\")"
      ],
      "id": "5ac96871",
      "execution_count": null,
      "outputs": []
    },
    {
      "cell_type": "markdown",
      "metadata": {},
      "source": [
        "First, we will read and display the initial dataset in our file system for this blog post, downloaded from Kaggle. This dataset contains loads of valuable information such as almost every major world power's international US currency conversion rate.\n"
      ],
      "id": "aa2e7a8f"
    },
    {
      "cell_type": "code",
      "metadata": {},
      "source": [
        "# Reading and displaying the initial dataset\n",
        "df = pd.read_csv(\"datasets/foreign_exchange_rates.csv\")\n",
        "df"
      ],
      "id": "4cd663cc",
      "execution_count": null,
      "outputs": []
    },
    {
      "cell_type": "markdown",
      "metadata": {},
      "source": [
        "For clarity on the constraints and parameters of the working datasets, I went to find high-level exploratory statistics on all of the datasets: shape, information about all of the entries, etc.\n"
      ],
      "id": "5fa5633d"
    },
    {
      "cell_type": "code",
      "metadata": {},
      "source": [
        "# Determining the shape of the initial dataset\n",
        "df.shape"
      ],
      "id": "32a18fbb",
      "execution_count": null,
      "outputs": []
    },
    {
      "cell_type": "code",
      "metadata": {},
      "source": [
        "# Getting a sample of the initial dataset through the seeing the first 10 entries\n",
        "# completely in the dataset\n",
        "df.head()"
      ],
      "id": "e0594664",
      "execution_count": null,
      "outputs": []
    },
    {
      "cell_type": "code",
      "metadata": {},
      "source": [
        "# Figuring out all of the columns (and their names) available for me to use in the dataset\n",
        "df.columns"
      ],
      "id": "33493d65",
      "execution_count": null,
      "outputs": []
    },
    {
      "cell_type": "code",
      "metadata": {},
      "source": [
        "# Figuring out the number of duplicated elements in the dataset\n",
        "# (could be problematic if not resolved)\n",
        "df.duplicated().sum()"
      ],
      "id": "73ceb66f",
      "execution_count": null,
      "outputs": []
    },
    {
      "cell_type": "code",
      "metadata": {},
      "source": [
        "# Figuring out the number of 'null'/'NaN' elements in the dataset \n",
        "# (if NaN filling is needed or not)\n",
        "(df.isnull().sum() / df.shape[0]) * 100"
      ],
      "id": "378c36b4",
      "execution_count": null,
      "outputs": []
    },
    {
      "cell_type": "code",
      "metadata": {},
      "source": [
        "# Getting basic information about the dataset\n",
        "df.info()"
      ],
      "id": "7726fc66",
      "execution_count": null,
      "outputs": []
    },
    {
      "cell_type": "markdown",
      "metadata": {},
      "source": [
        "Additionally, before handing my combined Book dataset over for Machine Learning training and prediction, I need to clean the data prior to the analysis stage: removing duplicates, deleting null/NaN vales, fixing types of columns, filling invalid values with suitable alternatives, etc.\n"
      ],
      "id": "de3fd63e"
    },
    {
      "cell_type": "code",
      "metadata": {},
      "source": [
        "# Removing unnecessary/unnamed columns in the dataset\n",
        "df = df.drop(\"Unnamed: 0\", axis=1)\n",
        "df"
      ],
      "id": "4f14d316",
      "execution_count": null,
      "outputs": []
    },
    {
      "cell_type": "code",
      "metadata": {},
      "source": [
        "# Converting the date column into a string representation to a parsable\n",
        "# Datetime object (needed for later)\n",
        "df = df.rename(columns={\"Time Serie\": \"DATE\"})\n",
        "\n",
        "def str_to_datetime(date_str: str):\n",
        "    split = tuple(date_str.split(\"-\"))\n",
        "    year, month, day = int(split[0]), int(split[1]), int(split[2])\n",
        "    return dt.datetime(year, month, day)\n",
        "\n",
        "df[\"DATE\"] = df[\"DATE\"].apply(str_to_datetime)\n",
        "df[\"DATE\"]"
      ],
      "id": "c7870159",
      "execution_count": null,
      "outputs": []
    },
    {
      "cell_type": "markdown",
      "metadata": {},
      "source": [
        "As shown below, I had decided to filter out all of the countries except Austrailia, Canada, the United Kingdom, and Switzerland because those countries had the most stable and consistent international currency rates as well as the most comparable (1:1) currency rates with the United States. One additional reason that these countries were selected for this blog post was do the geographical diversity covered most landmass continents across the world, representative of the global market interactions that the United States deals with on a day-to-day basis.\n"
      ],
      "id": "1f06e99e"
    },
    {
      "cell_type": "code",
      "metadata": {},
      "source": [
        "# Making the \"Date\" column the new index (better identifer/key in dataset)\n",
        "# Taking out other countries except Austrailia, Canada, UK, and \n",
        "# Switzerland from dataset for Machine Learning blog post\n",
        "df.index = df.pop(\"DATE\")\n",
        "df = df[[\"AUSTRALIA - AUSTRALIAN DOLLAR/US$\", \n",
        "         \"CANADA - CANADIAN DOLLAR/US$\",\n",
        "         \"UNITED KINGDOM - UNITED KINGDOM POUND/US$\",\n",
        "         \"SWITZERLAND - FRANC/US$\"]]\n",
        "df"
      ],
      "id": "26206fae",
      "execution_count": null,
      "outputs": []
    },
    {
      "cell_type": "code",
      "metadata": {},
      "source": [
        "# Converting of all numerical international currency rates to 2-decimal \n",
        "# rates (easier to work with for later)\n",
        "for col in df:\n",
        "    df[col] = df[col].map(lambda entry: entry if entry == \"ND\" else round(float(entry), 2))\n",
        "df"
      ],
      "id": "93ed8fbd",
      "execution_count": null,
      "outputs": []
    },
    {
      "cell_type": "code",
      "metadata": {},
      "source": [
        "# Removing all of the dated rows that contains \"ND\" as a way to avoid problems \n",
        "# when trying to interlay Machine Learning algorithms that require only\n",
        "# quantitative data with categorical entries\n",
        "nd_index_list: set[str] = set()\n",
        "for row_index, _ in df.iterrows():\n",
        "    for col_entry in df.loc[row_index]:\n",
        "        if col_entry == \"ND\":\n",
        "             nd_index_list.add(row_index)\n",
        "\n",
        "df = df.drop(labels=list(nd_index_list), axis=0)\n",
        "df"
      ],
      "id": "988ddee7",
      "execution_count": null,
      "outputs": []
    },
    {
      "cell_type": "markdown",
      "metadata": {},
      "source": [
        "As shown in the code snippet below, with some online references, the `df_to_windowed_df` function describes a way to use prediction values. A new international currency rate dataframe is created which includes the rows encompassing the 3 previous dates prior to the current date of when the international currency rate was reported as well as the current rate that day. This would be helpful for later Machine Learning predictions because the previous 3 dates and the current will provide it enough context to make more insightful predictions on the future of the international currency rates between that respective country specified and the United States. Later, as you will see, the 3 previous days are going to be the input and the current currency rate (`Target`) will be our output.\n"
      ],
      "id": "8f12de04"
    },
    {
      "cell_type": "code",
      "metadata": {},
      "source": [
        "def df_to_windowed_df(data_frame: pd.DataFrame, first_date_str: str, last_date_str: str, n: int, col_name: str):\n",
        "    first_date = str_to_datetime(first_date_str)\n",
        "    last_date = str_to_datetime(last_date_str)\n",
        "    \n",
        "    target_date = first_date\n",
        "    \n",
        "    dates: list = []\n",
        "    X: list = []\n",
        "    Y: list = []\n",
        "    \n",
        "    last_time = False\n",
        "    while True:\n",
        "        df_subset = data_frame.loc[:target_date].tail(n + 1)\n",
        "        \n",
        "        if (len(df_subset) != n + 1):\n",
        "            print(\"Error: Window of size \" + str(n) + \" is too large for date \" + str(target_date))\n",
        "            return\n",
        "        \n",
        "        values = df_subset[col_name].to_numpy()\n",
        "        x, y = values[:-1], values[-1]\n",
        "        \n",
        "        dates.append(target_date)\n",
        "        X.append(x)\n",
        "        Y.append(y)\n",
        "        \n",
        "        next_week = data_frame.loc[target_date:target_date + dt.timedelta(days=7)]\n",
        "        next_datetime_str = str(next_week.head(2).tail(1).index.values[0])\n",
        "        next_date_str = next_datetime_str.split(\"T\")[0]\n",
        "        year_month_day = next_date_str.split(\"-\")\n",
        "        year, month, day = year_month_day\n",
        "        next_date = dt.datetime(year=int(year), month=int(month), day=int(day))\n",
        "        \n",
        "        if last_time:\n",
        "            break\n",
        "        \n",
        "        target_date = next_date\n",
        "        if (target_date == last_date):\n",
        "            last_time = True\n",
        "    \n",
        "    returned_df = pd.DataFrame({})\n",
        "    returned_df[\"Target Date\"] = dates\n",
        "    \n",
        "    X = np.array(X)\n",
        "    for i in range(0, n):\n",
        "        X[:, i]\n",
        "        returned_df[\"Target-\" + str(n - i)] = X[:, i]\n",
        "    returned_df[\"Target\"] = Y\n",
        "    \n",
        "    return returned_df "
      ],
      "id": "e5be4ac1",
      "execution_count": null,
      "outputs": []
    },
    {
      "cell_type": "markdown",
      "metadata": {},
      "source": [
        "Thus, with the `df_to_windowed_df` function created, we created one for every country to later use for Machine Learning model training and eventual predictions of future rates: Austrailia, Canada, the United Kingdom, and Switzerland.\n"
      ],
      "id": "c9b85d70"
    },
    {
      "cell_type": "code",
      "metadata": {},
      "source": [
        "# Convert Austrailia's dataframe to a windowed dataframe\n",
        "windowed_df_austrailia = df_to_windowed_df(data_frame=df, \n",
        "                                first_date_str=\"2000-01-06\",\n",
        "                                last_date_str=\"2019-12-31\",\n",
        "                                n=3,\n",
        "                                col_name=\"AUSTRALIA - AUSTRALIAN DOLLAR/US$\")\n",
        "windowed_df_austrailia  "
      ],
      "id": "b7b47d93",
      "execution_count": null,
      "outputs": []
    },
    {
      "cell_type": "code",
      "metadata": {},
      "source": [
        "# Convert Canada's dataframe to a windowed dataframe\n",
        "windowed_df_canada = df_to_windowed_df(data_frame=df, \n",
        "                                first_date_str=\"2000-01-06\",\n",
        "                                last_date_str=\"2019-12-31\",\n",
        "                                n=3,\n",
        "                                col_name=\"CANADA - CANADIAN DOLLAR/US$\")\n",
        "windowed_df_canada"
      ],
      "id": "59f642e1",
      "execution_count": null,
      "outputs": []
    },
    {
      "cell_type": "code",
      "metadata": {},
      "source": [
        "# Convert United Kingdom's dataframe to a windowed dataframe\n",
        "windowed_df_united_kingdom = df_to_windowed_df(data_frame=df, \n",
        "                                first_date_str=\"2000-01-06\",\n",
        "                                last_date_str=\"2019-12-31\",\n",
        "                                n=3,\n",
        "                                col_name=\"UNITED KINGDOM - UNITED KINGDOM POUND/US$\")\n",
        "windowed_df_united_kingdom"
      ],
      "id": "394a2e51",
      "execution_count": null,
      "outputs": []
    },
    {
      "cell_type": "code",
      "metadata": {},
      "source": [
        "# Convert Switzerland's dataframe to a windowed dataframe\n",
        "windowed_df_switzerland = df_to_windowed_df(data_frame=df, \n",
        "                                first_date_str=\"2000-01-06\",\n",
        "                                last_date_str=\"2019-12-31\",\n",
        "                                n=3,\n",
        "                                col_name=\"SWITZERLAND - FRANC/US$\")\n",
        "windowed_df_switzerland"
      ],
      "id": "6c34c246",
      "execution_count": null,
      "outputs": []
    },
    {
      "cell_type": "markdown",
      "metadata": {},
      "source": [
        "As the Machine Learning model that will be used later in this blog post only accepts `numpy` arrays, we need to extract each of the following quantities from each respective country's dataframe: the dates as an `np.array`, the X-values for input as an 3-dimensional `np.array`, and the Y-values for output as an `np.array`. Thus, with some online references, our codebase now has a function called `windowed_df_to_date_X_y` as shown below to account for this needed transformation.\n"
      ],
      "id": "62affb40"
    },
    {
      "cell_type": "code",
      "metadata": {},
      "source": [
        "def windowed_df_to_date_X_y(windowed_dataframe: pd.DataFrame):\n",
        "    df_as_np = windowed_dataframe.to_numpy()\n",
        "    \n",
        "    dates = df_as_np[:, 0]\n",
        "    \n",
        "    middle_matrix = df_as_np[:, 1:-1]\n",
        "    X = middle_matrix.reshape((len(dates), middle_matrix.shape[1], 1))\n",
        "    Y = df_as_np[:, -1]\n",
        "    \n",
        "    return dates, X.astype(np.float32), Y.astype(np.float32)\n",
        "\n",
        "dates_austrailia, X_austrailia, y_austrailia = windowed_df_to_date_X_y(windowed_dataframe=windowed_df_austrailia)\n",
        "dates_canada, X_canada, y_canada = windowed_df_to_date_X_y(windowed_dataframe=windowed_df_canada)\n",
        "dates_united_kingdom, X_united_kingdom, y_united_kingdom = windowed_df_to_date_X_y(windowed_dataframe=windowed_df_united_kingdom)\n",
        "dates_switzerland, X_switzerland, y_switzerland = windowed_df_to_date_X_y(windowed_dataframe=windowed_df_switzerland)\n",
        "\n",
        "print(dates_austrailia.shape, X_austrailia.shape, y_austrailia.shape)\n",
        "print(dates_canada.shape, X_canada.shape, y_canada.shape)\n",
        "print(dates_united_kingdom.shape, X_united_kingdom.shape, y_united_kingdom.shape)\n",
        "print(dates_switzerland.shape, X_switzerland.shape, y_switzerland.shape)\n",
        "len(windowed_df_austrailia), len(windowed_df_canada), len(windowed_df_united_kingdom), len(windowed_df_switzerland)"
      ],
      "id": "c9a6a7eb",
      "execution_count": null,
      "outputs": []
    },
    {
      "cell_type": "markdown",
      "metadata": {},
      "source": [
        "Here, I am trying to a visualization of the cleaned dataset before we pass it over for Machine Learning training and prediction. To show the rate of change for the International Currency Rates for Austrailia, Canada, the United Kingdom, and Switzerland over the 20-year period as collected in the data set, I put together a line graph as shown below.\n"
      ],
      "id": "91530085"
    },
    {
      "cell_type": "code",
      "metadata": {},
      "source": [
        "# Plotting the each four countries currency rates (per US dollar) from \n",
        "# 2000 - 2020\n",
        "plt.plot(df.index, df[\"AUSTRALIA - AUSTRALIAN DOLLAR/US$\"], label=\"AUS to USD\", linewidth=1)\n",
        "plt.plot(df.index, df[ \"CANADA - CANADIAN DOLLAR/US$\"], label=\"CAN to USD\", linewidth=1)\n",
        "plt.plot(df.index, df[\"UNITED KINGDOM - UNITED KINGDOM POUND/US$\"], label=\"GBR to USD\", linewidth=1)\n",
        "plt.plot(df.index, df[\"SWITZERLAND - FRANC/US$\"], label=\"CHE to USD\", linewidth=1)\n",
        "\n",
        "plt.legend(loc=\"upper right\")\n",
        "plt.rcParams[\"font.size\"] = 8\n",
        "plt.tight_layout()\n",
        "plt.xlabel(\"Historical Date\", fontsize=12)\n",
        "plt.ylabel(\"Currency Rate of the Respective Country to USD\", fontsize=12)\n",
        "plt.title(\"Culmination of the All Four Countries' Datasets - After Parsing But Before Machine Learning Alterations\")\n",
        "plt.show()"
      ],
      "id": "07abd1e2",
      "execution_count": null,
      "outputs": []
    },
    {
      "cell_type": "markdown",
      "metadata": {},
      "source": [
        "## Machine Learning - Model Training and Evaluation\n",
        "\n",
        "Great, now we are onto the Machine Learning part of the blog post!\n",
        "\n",
        "For this blog post, I worked to create Machine Learning models for each country's dataset separately. I started with Austrailia's data first (as shown below):\n"
      ],
      "id": "dc7de3f0"
    },
    {
      "cell_type": "code",
      "metadata": {},
      "source": [
        "# Getting the location of the 80th and 90th percentile of the number of points \n",
        "# in the dataset for later train, vailidation, and test category splitting\n",
        "percentile_80 = int(len(windowed_df_austrailia) * 0.8)\n",
        "percentile_90 = int(len(windowed_df_austrailia) * 0.9)\n",
        "percentile_80, percentile_90"
      ],
      "id": "920023cb",
      "execution_count": null,
      "outputs": []
    },
    {
      "cell_type": "markdown",
      "metadata": {},
      "source": [
        "Since the data (date, X, and y) is split into three `np.arrays` and to be more efficient, I will manually split Austrailia's data into train, test, and validation datasets for the Machine Learning model with 80% going to the training dataset, the next 10% going to the validation dataset, and the last 10% going to the test dataset for each `np.array` respectively. This split should be acceptable because I did not mix-and-match training & validation datasets with my testing datasets, wihch would invalidate my entire Machine Learning model. Additionally, looking at the presented in the validation and testing datasets, the range of these respective datasets have been reached before in my training dataset, meaning I anticipated my model should be able to reasonably predict these expected ranges with considerable accuracy. \n"
      ],
      "id": "b717b737"
    },
    {
      "cell_type": "code",
      "metadata": {},
      "source": [
        "# Splitting Austrailia's data into train, test, and validation sets on 3 \n",
        "# mediums: the X-axis, the y-axis, and the indices (represented by dates)\n",
        "dates_austrailia_train, X_austrailia_train, y_austrailia_train = dates_austrailia[:percentile_80], X_austrailia[:percentile_80], y_austrailia[:percentile_80]\n",
        "dates_austrailia_val, X_austrailia_val, y_austrailia_val = dates_austrailia[percentile_80:percentile_90], X_austrailia[percentile_80:percentile_90], y_austrailia[percentile_80:percentile_90]\n",
        "dates_austrailia_test, X_austrailia_test, y_austrailia_test = dates_austrailia[percentile_90:], X_austrailia[percentile_90:], y_austrailia[percentile_90:]\n",
        "\n",
        "plt.plot(dates_austrailia_train, y_austrailia_train, linewidth=1)\n",
        "plt.plot(dates_austrailia_val, y_austrailia_val, linewidth=1)\n",
        "plt.plot(dates_austrailia_test, y_austrailia_test, linewidth=1)\n",
        "\n",
        "plt.legend([\"Training\", \"Validation\", \"Testing\"])\n",
        "plt.rcParams[\"font.size\"] = 8\n",
        "plt.tight_layout()\n",
        "plt.xlabel(\"Historical Date\")\n",
        "plt.ylabel(\"Currency Rate of the Respective Country to USD\")\n",
        "plt.title(\"Split of Austrailia's Data for LSTM Model\")\n",
        "plt.show()"
      ],
      "id": "137d3195",
      "execution_count": null,
      "outputs": []
    },
    {
      "cell_type": "markdown",
      "metadata": {},
      "source": [
        "Now, I began to configure the Machine Learning model. We added Sequential layers: an Input layer 3 by 1 because we will have 3 `np.arrays` of Input and 1 `np.array` as output, utilize a LSTM (Long Short-Term Memory) layer of 64 neurons, apply 2 levels of dense layers with 32 neurons and folliowing recommendations online to use the RELU (Rectified Linear Unit) Activiation Function, and I followed up with one last dense layer of 1 neuron as our output layer since we are just trying to linearly-predict the next currency-rate on a near-future date. Once I configured the Sequential layers, we are ready to compile the model, utilzing the `mean_square_error` as our minimizing loss function, using the `Adam` optimizer, and comparing our trained model against our data with the `mean_absolute_error` metric. Lastly, I fitted our model, utilzing our X_train and Y_train datasets for fitting with validation from our X_valid and Y_valid datasets at 100 epochs.\n"
      ],
      "id": "9ae9d00f"
    },
    {
      "cell_type": "code",
      "metadata": {},
      "source": [
        "# Configuring the Machine Learning Tensorflow Model for Austrailia\n",
        "austrailia_model = Sequential([layers.Input((3, 1)),\n",
        "                    layers.LSTM(64),\n",
        "                    layers.Dense(32, activation=\"relu\"),\n",
        "                    layers.Dense(32, activation=\"relu\"),\n",
        "                    layers.Dense(1)])\n",
        "\n",
        "austrailia_model.compile(loss=\"mse\",\n",
        "              optimizer=Adam(learning_rate=0.001),\n",
        "              metrics=[\"mean_absolute_error\"])\n",
        "\n",
        "austrailia_model.fit(X_austrailia_train, y_austrailia_train, validation_data=(X_austrailia_val, y_austrailia_val), epochs=100)"
      ],
      "id": "a1ea2e21",
      "execution_count": null,
      "outputs": []
    },
    {
      "cell_type": "markdown",
      "metadata": {},
      "source": [
        "After the training and fitting of the Machine Learning model for Austrailia, I tried to create visualizations comparing the model against the country's training dataset, validation dataset, but most importantly the testing dataset (as shown below in the line graphs). Note that the darker and thicker blue lines represent the prediction model's projections and the thinner red lines is the observed/gathered data.\n"
      ],
      "id": "cc0de65c"
    },
    {
      "cell_type": "code",
      "metadata": {},
      "source": [
        "# Testing the Machine Learning Model prediction for Austrailia with the train, \n",
        "# validation, and test sets\n",
        "# Most important is the test set prediction as this tests the effectiveness\n",
        "# of the Machine Learning model on data it has not seen before \n",
        "austrailia_train_pred = austrailia_model.predict(X_austrailia_train).flatten()\n",
        "\n",
        "plt.plot(dates_austrailia_train, austrailia_train_pred, linewidth=4)\n",
        "plt.plot(dates_austrailia_train, y_austrailia_train, linewidth=1)\n",
        "plt.legend([\"Training Predictions\", \"Training Observations\"])\n",
        "plt.rcParams[\"font.size\"] = 8\n",
        "plt.tight_layout()\n",
        "plt.xlabel(\"Historical Date\")\n",
        "plt.ylabel(\"Currency Rate of the Respective Country to USD\")\n",
        "plt.title(\"Austrailia - Training Set Predictions vs. Observations\")\n",
        "plt.show()\n",
        "\n",
        "austrailia_val_pred = austrailia_model.predict(X_austrailia_val).flatten()\n",
        "\n",
        "plt.plot(dates_austrailia_val, austrailia_val_pred, linewidth=4)\n",
        "plt.plot(dates_austrailia_val, y_austrailia_val, linewidth=1)\n",
        "plt.legend([\"Validation Predictions\", \"Validation Observations\"])\n",
        "plt.rcParams[\"font.size\"] = 8\n",
        "plt.tight_layout()\n",
        "plt.xlabel(\"Historical Date\")\n",
        "plt.ylabel(\"Currency Rate of the Respective Country to USD\")\n",
        "plt.title(\"Austrailia - Validation Set Predictions vs. Observations\")\n",
        "plt.show()\n",
        "\n",
        "austrailia_test_pred = austrailia_model.predict(X_austrailia_test).flatten()\n",
        "\n",
        "plt.plot(dates_austrailia_test, austrailia_test_pred, linewidth=4)\n",
        "plt.plot(dates_austrailia_test, y_austrailia_test, linewidth=1)\n",
        "plt.legend([\"Testing Predictions\", \"Testing Observations\"])\n",
        "plt.rcParams[\"font.size\"] = 8\n",
        "plt.tight_layout()\n",
        "plt.xlabel(\"Historical Date\")\n",
        "plt.ylabel(\"Currency Rate of the Respective Country to USD\")\n",
        "plt.title(\"Austrailia - Testing Set Predictions vs. Observations\")\n",
        "plt.show()"
      ],
      "id": "6040c80a",
      "execution_count": null,
      "outputs": []
    },
    {
      "cell_type": "markdown",
      "metadata": {},
      "source": [
        "Through careful consideration of all of the prediction-based vs. observation-based contrast visualizations together, I consolidated all of graphics into one singular visualization for you to see below to get a more general perspective of the effectiveness of the Machine Learning model at training and fitting towards predicting Austrailia's international currency rate with the United States.\n"
      ],
      "id": "c65b3518"
    },
    {
      "cell_type": "code",
      "metadata": {},
      "source": [
        "# Plotting Austrailia's observational (reference) data with the predictions of \n",
        "# its Machine Learning Model (as a way to visually inspect the effectiveness of \n",
        "# the model) \n",
        "plt.plot(dates_austrailia_train, austrailia_train_pred, linewidth=4)\n",
        "plt.plot(dates_austrailia_train, y_austrailia_train, linewidth=1)\n",
        "plt.plot(dates_austrailia_val, austrailia_val_pred, linewidth=4)\n",
        "plt.plot(dates_austrailia_val, y_austrailia_val, linewidth=1)\n",
        "plt.plot(dates_austrailia_test, austrailia_test_pred, linewidth=4)\n",
        "plt.plot(dates_austrailia_test, y_austrailia_test, linewidth=1)\n",
        "\n",
        "plt.legend([\"Training Predictions\",\n",
        "            \"Training Observations\",\n",
        "            \"Validation Predictions\",\n",
        "            \"Validation Observations\",\n",
        "            \"Testing Predictions\",\n",
        "            \"Testing Observations\"])\n",
        "plt.rcParams[\"font.size\"] = 8\n",
        "plt.tight_layout()\n",
        "plt.xlabel(\"Historical Date\")\n",
        "plt.ylabel(\"Currency Rate of the Respective Country to USD\")\n",
        "plt.title(\"Culmination of the Three Machine Learning Phases of Austrailia's Dataset - Predictions vs. Observations\")\n",
        "plt.show()"
      ],
      "id": "3b10ece0",
      "execution_count": null,
      "outputs": []
    },
    {
      "cell_type": "markdown",
      "metadata": {},
      "source": [
        "Once Austraila's data was completely trained and visualized, I worked on Canada's data (as shown below):\n",
        "\n",
        "Since the data (date, X, and y) is split into three `np.arrays` and to be more efficient, I will manually split Canada's data into train, test, and validation datasets for the Machine Learning model with 80% going to the training dataset, the next 10% going to the validation dataset, and the last 10% going to the test dataset for each `np.array` respectively.\n"
      ],
      "id": "40cc4705"
    },
    {
      "cell_type": "code",
      "metadata": {},
      "source": [
        "# Splitting Canada's data into train, test, and validation sets on 3 mediums: \n",
        "# the X-axis, the y-axis, and the indices (represented by dates)\n",
        "dates_canada_train, X_canada_train, y_canada_train = dates_canada[:percentile_80], X_canada[:percentile_80], y_canada[:percentile_80]\n",
        "dates_canada_val, X_canada_val, y_canada_val = dates_canada[percentile_80:percentile_90], X_canada[percentile_80:percentile_90], y_canada[percentile_80:percentile_90]\n",
        "dates_canada_test, X_canada_test, y_canada_test = dates_canada[percentile_90:], X_canada[percentile_90:], y_canada[percentile_90:]\n",
        "\n",
        "plt.plot(dates_canada_train, y_canada_train, linewidth=1)\n",
        "plt.plot(dates_canada_val, y_canada_val, linewidth=1)\n",
        "plt.plot(dates_canada_test, y_canada_test, linewidth=1)\n",
        "\n",
        "plt.legend([\"Training\", \"Validation\", \"Testing\"])\n",
        "plt.rcParams[\"font.size\"] = 8\n",
        "plt.tight_layout()\n",
        "plt.xlabel(\"Historical Date\")\n",
        "plt.ylabel(\"Currency Rate of the Respective Country to USD\")\n",
        "plt.title(\"Split of Canada's Data for LSTM Model\")\n",
        "plt.show()"
      ],
      "id": "769ebc2e",
      "execution_count": null,
      "outputs": []
    },
    {
      "cell_type": "markdown",
      "metadata": {},
      "source": [
        "Now, I began to configure the Machine Learning model. We added Sequential layers: an Input layer 3 by 1 because we will have 3 `np.arrays` of Input and 1 `np.array` as output, utilize a LSTM (Long Short-Term Memory) layer of 64 neurons, apply 2 levels of dense layers with 32 neurons and folliowing recommendations online to use the RELU (Rectified Linear Unit) Activiation Function, and I followed up with one last dense layer of 1 neuron as our output layer since we are just trying to linearly-predict the next currency-rate on a near-future date. Once I configured the Sequential layers, we are ready to compile the model, utilzing the `mean_square_error` as our minimizing loss function, using the `Adam` optimizer, and comparing our trained model against our data with the `mean_absolute_error` metric. Lastly, I fitted our model, utilzing our X_train and Y_train datasets for fitting with validation from our X_valid and Y_valid datasets at 100 epochs.\n"
      ],
      "id": "a6f374f3"
    },
    {
      "cell_type": "code",
      "metadata": {},
      "source": [
        "# Configuring the Machine Learning Tensorflow Model for Canada\n",
        "canada_model = Sequential([layers.Input((3, 1)),\n",
        "                    layers.LSTM(64),\n",
        "                    layers.Dense(32, activation=\"relu\"),\n",
        "                    layers.Dense(32, activation=\"relu\"),\n",
        "                    layers.Dense(1)])\n",
        "\n",
        "canada_model.compile(loss=\"mse\",\n",
        "              optimizer=Adam(learning_rate=0.001),\n",
        "              metrics=[\"mean_absolute_error\"])\n",
        "\n",
        "canada_model.fit(X_canada_train, y_canada_train, validation_data=(X_canada_val, y_canada_val), epochs=100)"
      ],
      "id": "6902b822",
      "execution_count": null,
      "outputs": []
    },
    {
      "cell_type": "markdown",
      "metadata": {},
      "source": [
        "After the training and fitting of the Machine Learning model for Canada, I tried to create visualizations comparing the model against the country's training dataset, validation dataset, but most importantly the testing dataset (as shown below in the line graphs). Note that the darker and thicker blue lines represent the prediction model's projections and the thinner red lines is the observed/gathered data.\n"
      ],
      "id": "aa4eb864"
    },
    {
      "cell_type": "code",
      "metadata": {},
      "source": [
        "# Testing the Machine Learning Model prediction for Austrailia with the train, \n",
        "# validation, and test sets\n",
        "# Most important is the test set prediction as this tests the effectiveness\n",
        "# of the Machine Learning model on data it has not seen before \n",
        "canada_train_pred = canada_model.predict(X_canada_train).flatten()\n",
        "\n",
        "plt.plot(dates_canada_train, canada_train_pred, linewidth=4)\n",
        "plt.plot(dates_canada_train, y_canada_train, linewidth=1)\n",
        "plt.legend([\"Training Predictions\", \"Training Observations\"])\n",
        "plt.rcParams[\"font.size\"] = 8\n",
        "plt.tight_layout()\n",
        "plt.xlabel(\"Historical Date\")\n",
        "plt.ylabel(\"Currency Rate of the Respective Country to USD\")\n",
        "plt.title(\"Canada - Training Set Predictions vs. Observations\")\n",
        "plt.show()\n",
        "\n",
        "canada_val_pred = canada_model.predict(X_canada_val).flatten()\n",
        "\n",
        "plt.plot(dates_canada_val, canada_val_pred, linewidth=4)\n",
        "plt.plot(dates_canada_val, y_canada_val, linewidth=1)\n",
        "plt.legend([\"Validation Predictions\", \"Validation Observations\"])\n",
        "plt.rcParams[\"font.size\"] = 8\n",
        "plt.tight_layout()\n",
        "plt.xlabel(\"Historical Date\")\n",
        "plt.ylabel(\"Currency Rate of the Respective Country to USD\")\n",
        "plt.title(\"Canada - Validation Set Predictions vs. Observations\")\n",
        "plt.show()\n",
        "\n",
        "canada_test_pred = canada_model.predict(X_canada_test).flatten()\n",
        "\n",
        "plt.plot(dates_canada_test, canada_test_pred, linewidth=4)\n",
        "plt.plot(dates_canada_test, y_canada_test, linewidth=1)\n",
        "plt.legend([\"Testing Predictions\", \"Testing Observations\"])\n",
        "plt.rcParams[\"font.size\"] = 8\n",
        "plt.tight_layout()\n",
        "plt.xlabel(\"Historical Date\")\n",
        "plt.ylabel(\"Currency Rate of the Respective Country to USD\")\n",
        "plt.title(\"Canada - Testing Set Predictions vs. Observations\")\n",
        "plt.show()"
      ],
      "id": "464a1bb8",
      "execution_count": null,
      "outputs": []
    },
    {
      "cell_type": "markdown",
      "metadata": {},
      "source": [
        "Through careful consideration of all of the prediction-based vs. observation-based contrast visualizations together, I consolidated all of graphics into one singular visualization for you to see below to get a more general perspective of the effectiveness of the Machine Learning model at training and fitting towards predicting Canada's international currency rate with the United States.\n"
      ],
      "id": "a40baa66"
    },
    {
      "cell_type": "code",
      "metadata": {},
      "source": [
        "# Plotting Canada's observational (reference) data with the predictions of its \n",
        "# Machine Learning Model (as a way to visually inspect the effectiveness of the \n",
        "# model) \n",
        "plt.plot(dates_canada_train, canada_train_pred, linewidth=4)\n",
        "plt.plot(dates_canada_train, y_canada_train, linewidth=1)\n",
        "plt.plot(dates_canada_val, canada_val_pred, linewidth=4)\n",
        "plt.plot(dates_canada_val, y_canada_val, linewidth=1)\n",
        "plt.plot(dates_canada_test, canada_test_pred, linewidth=4)\n",
        "plt.plot(dates_canada_test, y_canada_test, linewidth=1)\n",
        "\n",
        "plt.legend([\"Training Predictions\",\n",
        "            \"Training Observations\",\n",
        "            \"Validation Predictions\",\n",
        "            \"Validation Observations\",\n",
        "            \"Testing Predictions\",\n",
        "            \"Testing Observations\"], loc=\"upper right\")\n",
        "plt.rcParams[\"font.size\"] = 8\n",
        "plt.tight_layout()\n",
        "plt.xlabel(\"Historical Date\")\n",
        "plt.ylabel(\"Currency Rate of the Respective Country to USD\")\n",
        "plt.title(\"Culmination of the Three Machine Learning Phases of Austrailia's Dataset - Predictions vs. Observations\")\n",
        "plt.show()"
      ],
      "id": "b7c9943d",
      "execution_count": null,
      "outputs": []
    },
    {
      "cell_type": "markdown",
      "metadata": {},
      "source": [
        "Then, I worked on the United Kingdom's data (as shown below):\n",
        "\n",
        "Since the data (date, X, and y) is split into three `np.arrays` and to be more efficient, I will manually split the United Kingdom's data into train, test, and validation datasets for the Machine Learning model with 80% going to the training dataset, the next 10% going to the validation dataset, and the last 10% going to the test dataset for each `np.array` respectively.\n"
      ],
      "id": "08b6934b"
    },
    {
      "cell_type": "code",
      "metadata": {},
      "source": [
        "# Splitting United Kingdom's data into train, test, and validation sets on 3 \n",
        "# mediums: the X-axis, the y-axis, and the indices (represented by dates)\n",
        "dates_united_kingdom_train, X_united_kingdom_train, y_united_kingdom_train = dates_united_kingdom[:percentile_80], X_united_kingdom[:percentile_80], y_united_kingdom[:percentile_80]\n",
        "dates_united_kingdom_val, X_united_kingdom_val, y_united_kingdom_val = dates_united_kingdom[percentile_80:percentile_90], X_united_kingdom[percentile_80:percentile_90], y_united_kingdom[percentile_80:percentile_90]\n",
        "dates_united_kingdom_test, X_united_kingdom_test, y_united_kingdom_test = dates_united_kingdom[percentile_90:], X_united_kingdom[percentile_90:], y_united_kingdom[percentile_90:]\n",
        "\n",
        "plt.plot(dates_united_kingdom_train, y_united_kingdom_train, linewidth=1)\n",
        "plt.plot(dates_united_kingdom_val, y_united_kingdom_val, linewidth=1)\n",
        "plt.plot(dates_united_kingdom_test, y_united_kingdom_test, linewidth=1)\n",
        "\n",
        "plt.legend([\"Training\", \"Validation\", \"Testing\"])\n",
        "plt.rcParams[\"font.size\"] = 8\n",
        "plt.tight_layout()\n",
        "plt.xlabel(\"Historical Date\")\n",
        "plt.ylabel(\"Currency Rate of the Respective Country to USD\")\n",
        "plt.title(\"Split of United Kingdom's Data for LSTM Model\")\n",
        "plt.show()"
      ],
      "id": "4b0ca34c",
      "execution_count": null,
      "outputs": []
    },
    {
      "cell_type": "markdown",
      "metadata": {},
      "source": [
        "Now, I began to configure the Machine Learning model. We added Sequential layers: an Input layer 3 by 1 because we will have 3 `np.arrays` of Input and 1 `np.array` as output, utilize a LSTM (Long Short-Term Memory) layer of 64 neurons, apply 2 levels of dense layers with 32 neurons and folliowing recommendations online to use the RELU (Rectified Linear Unit) Activiation Function, and I followed up with one last dense layer of 1 neuron as our output layer since we are just trying to linearly-predict the next currency-rate on a near-future date. Once I configured the Sequential layers, we are ready to compile the model, utilzing the `mean_square_error` as our minimizing loss function, using the `Adam` optimizer, and comparing our trained model against our data with the `mean_absolute_error` metric. Lastly, I fitted our model, utilzing our X_train and Y_train datasets for fitting with validation from our X_valid and Y_valid datasets at 100 epochs.\n"
      ],
      "id": "82fd0417"
    },
    {
      "cell_type": "code",
      "metadata": {},
      "source": [
        "# Configuring the Machine Learning Tensorflow Model for United Kingdom\n",
        "united_kingdom_model = Sequential([layers.Input((3, 1)),\n",
        "                    layers.LSTM(64),\n",
        "                    layers.Dense(32, activation=\"relu\"),\n",
        "                    layers.Dense(32, activation=\"relu\"),\n",
        "                    layers.Dense(1)])\n",
        "\n",
        "united_kingdom_model.compile(loss=\"mse\",\n",
        "              optimizer=Adam(learning_rate=0.001),\n",
        "              metrics=[\"mean_absolute_error\"])\n",
        "\n",
        "united_kingdom_model.fit(X_united_kingdom_train, y_united_kingdom_train, validation_data=(X_united_kingdom_val, y_united_kingdom_val), epochs=100)"
      ],
      "id": "e31d3448",
      "execution_count": null,
      "outputs": []
    },
    {
      "cell_type": "markdown",
      "metadata": {},
      "source": [
        "After the training and fitting of the Machine Learning model for the United Kingdom, I tried to create visualizations comparing the model against the country's training dataset, validation dataset, but most importantly the testing dataset (as shown below in the line graphs). Note that the darker and thicker blue lines represent the prediction model's projections and the thinner red lines is the observed/gathered data.\n"
      ],
      "id": "90c0f423"
    },
    {
      "cell_type": "code",
      "metadata": {},
      "source": [
        "# Testing the Machine Learning Model prediction for United Kingdom with the train, \n",
        "# validation, and test sets\n",
        "# Most important is the test set prediction as this tests the effectiveness\n",
        "# of the Machine Learning model on data it has not seen before \n",
        "united_kingdom_train_pred = united_kingdom_model.predict(X_united_kingdom_train).flatten()\n",
        "\n",
        "plt.plot(dates_united_kingdom_train, united_kingdom_train_pred, linewidth=4)\n",
        "plt.plot(dates_united_kingdom_train, y_united_kingdom_train, linewidth=1)\n",
        "plt.legend([\"Training Predictions\", \"Training Observations\"])\n",
        "plt.rcParams[\"font.size\"] = 8\n",
        "plt.tight_layout()\n",
        "plt.xlabel(\"Historical Date\")\n",
        "plt.ylabel(\"Currency Rate of the Respective Country to USD\")\n",
        "plt.title(\"United Kingdom - Training Set Predictions vs. Observations\")\n",
        "plt.show()\n",
        "\n",
        "united_kingdom_val_pred = united_kingdom_model.predict(X_united_kingdom_val).flatten()\n",
        "\n",
        "plt.plot(dates_united_kingdom_val, united_kingdom_val_pred, linewidth=4)\n",
        "plt.plot(dates_united_kingdom_val, y_united_kingdom_val, linewidth=1)\n",
        "plt.legend([\"Validation Predictions\", \"Validation Observations\"])\n",
        "plt.rcParams[\"font.size\"] = 8\n",
        "plt.tight_layout()\n",
        "plt.xlabel(\"Historical Date\")\n",
        "plt.ylabel(\"Currency Rate of the Respective Country to USD\")\n",
        "plt.title(\"United Kingdom - Validation Set Predictions vs. Observations\")\n",
        "plt.show()\n",
        "\n",
        "united_kingdom_test_pred = united_kingdom_model.predict(X_united_kingdom_test).flatten()\n",
        "\n",
        "plt.plot(dates_united_kingdom_test, united_kingdom_test_pred, linewidth=4)\n",
        "plt.plot(dates_united_kingdom_test, y_united_kingdom_test, linewidth=1)\n",
        "plt.legend([\"Testing Predictions\", \"Testing Observations\"])\n",
        "plt.rcParams[\"font.size\"] = 8\n",
        "plt.tight_layout()\n",
        "plt.xlabel(\"Historical Date\")\n",
        "plt.ylabel(\"Currency Rate of the Respective Country to USD\")\n",
        "plt.title(\"United Kingdom - Testing Set Predictions vs. Observations\")\n",
        "plt.show()"
      ],
      "id": "b8061009",
      "execution_count": null,
      "outputs": []
    },
    {
      "cell_type": "markdown",
      "metadata": {},
      "source": [
        "Through careful consideration of all of the prediction-based vs. observation-based contrast visualizations together, I consolidated all of graphics into one singular visualization for you to see below to get a more general perspective of the effectiveness of the Machine Learning model at training and fitting towards predicting the United Kingdom's international currency rate with the United States.\n"
      ],
      "id": "8e85187c"
    },
    {
      "cell_type": "code",
      "metadata": {},
      "source": [
        "# Plotting United Kingdom's observational (reference) data with the predictions \n",
        "# of its Machine Learning Model (as a way to visually inspect the effectiveness \n",
        "# of the model) \n",
        "plt.plot(dates_united_kingdom_train, united_kingdom_train_pred, linewidth=4)\n",
        "plt.plot(dates_united_kingdom_train, y_united_kingdom_train, linewidth=1)\n",
        "plt.plot(dates_united_kingdom_val, united_kingdom_val_pred, linewidth=4)\n",
        "plt.plot(dates_united_kingdom_val, y_united_kingdom_val, linewidth=1)\n",
        "plt.plot(dates_united_kingdom_test, united_kingdom_test_pred, linewidth=4)\n",
        "plt.plot(dates_united_kingdom_test, y_united_kingdom_test, linewidth=1)\n",
        "\n",
        "plt.legend([\"Training Predictions\",\n",
        "            \"Training Observations\",\n",
        "            \"Validation Predictions\",\n",
        "            \"Validation Observations\",\n",
        "            \"Testing Predictions\",\n",
        "            \"Testing Observations\"])\n",
        "plt.rcParams[\"font.size\"] = 8\n",
        "plt.tight_layout()\n",
        "plt.xlabel(\"Historical Date\")\n",
        "plt.ylabel(\"Currency Rate of the Respective Country to USD\")\n",
        "plt.title(\"Culmination of the Three Machine Learning Phases of United Kingdom's Dataset - Predictions vs. Observations\")\n",
        "plt.show()"
      ],
      "id": "d94aada7",
      "execution_count": null,
      "outputs": []
    },
    {
      "cell_type": "markdown",
      "metadata": {},
      "source": [
        "Lastly, I worked on Switzerland's data (as shown below):\n",
        "\n",
        "Since the data (date, X, and y) is split into three `np.arrays` and to be more efficient, I will manually split Switzerland's data into train, test, and validation datasets for the Machine Learning model with 80% going to the training dataset, the next 10% going to the validation dataset, and the last 10% going to the test dataset for each `np.array` respectively.\n"
      ],
      "id": "fbcdf20c"
    },
    {
      "cell_type": "code",
      "metadata": {},
      "source": [
        "# Splitting Switzerland's data into train, test, and validation sets on 3 \n",
        "# mediums: the X-axis, the y-axis, and the indices (represented by dates)\n",
        "dates_switzerland_train, X_switzerland_train, y_switzerland_train = dates_switzerland[:percentile_80], X_switzerland[:percentile_80], y_switzerland[:percentile_80]\n",
        "dates_switzerland_val, X_switzerland_val, y_switzerland_val = dates_switzerland[percentile_80:percentile_90], X_switzerland[percentile_80:percentile_90], y_switzerland[percentile_80:percentile_90]\n",
        "dates_switzerland_test, X_switzerland_test, y_switzerland_test = dates_switzerland[percentile_90:], X_switzerland[percentile_90:], y_switzerland[percentile_90:]\n",
        "\n",
        "plt.plot(dates_switzerland_train, y_switzerland_train, linewidth=1)\n",
        "plt.plot(dates_switzerland_val, y_switzerland_val, linewidth=1)\n",
        "plt.plot(dates_switzerland_test, y_switzerland_test, linewidth=1)\n",
        "\n",
        "plt.legend([\"Training\", \"Validation\", \"Testing\"])\n",
        "plt.rcParams[\"font.size\"] = 8\n",
        "plt.tight_layout()\n",
        "plt.xlabel(\"Historical Date\")\n",
        "plt.ylabel(\"Currency Rate of the Respective Country to USD\")\n",
        "plt.title(\"Split of Switzerland's Data for LSTM Model\")\n",
        "plt.show()"
      ],
      "id": "87726997",
      "execution_count": null,
      "outputs": []
    },
    {
      "cell_type": "markdown",
      "metadata": {},
      "source": [
        "Now, I began to configure the Machine Learning model. We added Sequential layers: an Input layer 3 by 1 because we will have 3 `np.arrays` of Input and 1 `np.array` as output, utilize a LSTM (Long Short-Term Memory) layer of 64 neurons, apply 2 levels of dense layers with 32 neurons and folliowing recommendations online to use the RELU (Rectified Linear Unit) Activiation Function, and I followed up with one last dense layer of 1 neuron as our output layer since we are just trying to linearly-predict the next currency-rate on a near-future date. Once I configured the Sequential layers, we are ready to compile the model, utilzing the `mean_square_error` as our minimizing loss function, using the `Adam` optimizer, and comparing our trained model against our data with the `mean_absolute_error` metric. Lastly, I fitted our model, utilzing our X_train and Y_train datasets for fitting with validation from our X_valid and Y_valid datasets at 100 epochs.\n"
      ],
      "id": "ae592c60"
    },
    {
      "cell_type": "code",
      "metadata": {},
      "source": [
        "# Configuring the Machine Learning Tensorflow Model for Switzerland\n",
        "switzerland_model = Sequential([layers.Input((3, 1)),\n",
        "                    layers.LSTM(64),\n",
        "                    layers.Dense(32, activation=\"relu\"),\n",
        "                    layers.Dense(32, activation=\"relu\"),\n",
        "                    layers.Dense(1)])\n",
        "\n",
        "switzerland_model.compile(loss=\"mse\",\n",
        "              optimizer=Adam(learning_rate=0.001),\n",
        "              metrics=[\"mean_absolute_error\"])\n",
        "\n",
        "switzerland_model.fit(X_switzerland_train, y_switzerland_train, validation_data=(X_switzerland_val, y_switzerland_val), epochs=100)"
      ],
      "id": "d88e8a3e",
      "execution_count": null,
      "outputs": []
    },
    {
      "cell_type": "markdown",
      "metadata": {},
      "source": [
        "After the training and fitting of the Machine Learning model for Switzerland, I tried to create visualizations comparing the model against the country's training dataset, validation dataset, but most importantly the testing dataset (as shown below in the line graphs). Note that the darker and thicker blue lines represent the prediction model's projections and the thinner red lines is the observed/gathered data.\n"
      ],
      "id": "27278960"
    },
    {
      "cell_type": "code",
      "metadata": {},
      "source": [
        "# Testing the Machine Learning Model prediction for Switzerland with the train, \n",
        "# validation, and test sets\n",
        "# Most important is the test set prediction as this tests the effectiveness\n",
        "# of the Machine Learning model on data it has not seen before \n",
        "switzerland_train_pred = switzerland_model.predict(X_switzerland_train).flatten()\n",
        "\n",
        "plt.plot(dates_switzerland_train, switzerland_train_pred, linewidth=4)\n",
        "plt.plot(dates_switzerland_train, y_switzerland_train, linewidth=1)\n",
        "plt.legend([\"Training Predictions\", \"Training Observations\"])\n",
        "plt.rcParams[\"font.size\"] = 8\n",
        "plt.tight_layout()\n",
        "plt.xlabel(\"Historical Date\")\n",
        "plt.ylabel(\"Currency Rate of the Respective Country to USD\")\n",
        "plt.title(\"Switzerland - Training Set Predictions vs. Observations\")\n",
        "plt.show()\n",
        "\n",
        "switzerland_val_pred = switzerland_model.predict(X_switzerland_val).flatten()\n",
        "\n",
        "plt.plot(dates_switzerland_val, switzerland_val_pred, linewidth=4)\n",
        "plt.plot(dates_switzerland_val, y_switzerland_val, linewidth=1)\n",
        "plt.legend([\"Validation Predictions\", \"Validation Observations\"])\n",
        "plt.rcParams[\"font.size\"] = 8\n",
        "plt.tight_layout()\n",
        "plt.xlabel(\"Historical Date\")\n",
        "plt.ylabel(\"Currency Rate of the Respective Country to USD\")\n",
        "plt.title(\"Switzerland - Validation Set Predictions vs. Observations\")\n",
        "plt.show()\n",
        "\n",
        "switzerland_test_pred = switzerland_model.predict(X_switzerland_test).flatten()\n",
        "\n",
        "plt.plot(dates_switzerland_test, switzerland_test_pred, linewidth=4)\n",
        "plt.plot(dates_switzerland_test, y_switzerland_test, linewidth=1)\n",
        "plt.legend([\"Testing Predictions\", \"Testing Observations\"])\n",
        "plt.rcParams[\"font.size\"] = 8\n",
        "plt.tight_layout()\n",
        "plt.xlabel(\"Historical Date\")\n",
        "plt.ylabel(\"Currency Rate of the Respective Country to USD\")\n",
        "plt.title(\"Switzerland - Testing Set Predictions vs. Observations\")\n",
        "plt.show()"
      ],
      "id": "db087e65",
      "execution_count": null,
      "outputs": []
    },
    {
      "cell_type": "markdown",
      "metadata": {},
      "source": [
        "Through careful consideration of all of the prediction-based vs. observation-based contrast visualizations together, I consolidated all of graphics into one singular visualization for you to see below to get a more general perspective of the effectiveness of the Machine Learning model at training and fitting towards predicting Switzerland's international currency rate with the United States.\n"
      ],
      "id": "45adac77"
    },
    {
      "cell_type": "code",
      "metadata": {},
      "source": [
        "# Plotting Switzerland's observational (reference) data with the predictions \n",
        "# of its Machine Learning Model (as a way to visually inspect the effectiveness \n",
        "# of the model) \n",
        "plt.plot(dates_switzerland_train, switzerland_train_pred, linewidth=4)\n",
        "plt.plot(dates_switzerland_train, y_switzerland_train, linewidth=1)\n",
        "plt.plot(dates_switzerland_val, switzerland_val_pred, linewidth=4)\n",
        "plt.plot(dates_switzerland_val, y_switzerland_val, linewidth=1)\n",
        "plt.plot(dates_switzerland_test, switzerland_test_pred, linewidth=4)\n",
        "plt.plot(dates_switzerland_test, y_switzerland_test, linewidth=1)\n",
        "\n",
        "plt.legend([\"Training Predictions\",\n",
        "            \"Training Observations\",\n",
        "            \"Validation Predictions\",\n",
        "            \"Validation Observations\",\n",
        "            \"Testing Predictions\",\n",
        "            \"Testing Observations\"])\n",
        "plt.rcParams[\"font.size\"] = 8\n",
        "plt.tight_layout()\n",
        "plt.xlabel(\"Historical Date\")\n",
        "plt.ylabel(\"Currency Rate of the Respective Country to USD\")\n",
        "plt.title(\"Culmination of the Three Machine Learning Phases of Switzerland's Dataset - Predictions vs. Observations\")\n",
        "plt.show()"
      ],
      "id": "79264df5",
      "execution_count": null,
      "outputs": []
    },
    {
      "cell_type": "markdown",
      "metadata": {},
      "source": [
        "To put it all together, I made one large visualization to encompass all 4 countries' Machine Learning model prediction-based vs. observation-based visualizations - Austrailia, Canada, the United Kingdom, and Switzerland as shown below.\n"
      ],
      "id": "04543ae7"
    },
    {
      "cell_type": "code",
      "metadata": {},
      "source": [
        "# Plotting all countries' observational (reference) data with the predictions \n",
        "# of its Machine Learning Model (as a way to visually inspect the effectiveness \n",
        "# of the model in an overall sense) \n",
        "plt.plot(dates_austrailia_train, austrailia_train_pred, linewidth=4, linestyle=\"solid\")\n",
        "plt.plot(dates_austrailia_train, y_austrailia_train, linewidth=1, linestyle=\"solid\")\n",
        "plt.plot(dates_austrailia_val, austrailia_val_pred, linewidth=4, linestyle=\"solid\")\n",
        "plt.plot(dates_austrailia_val, y_austrailia_val, linewidth=1, linestyle=\"solid\")\n",
        "plt.plot(dates_austrailia_test, austrailia_test_pred, linewidth=4, linestyle=\"solid\")\n",
        "plt.plot(dates_austrailia_test, y_austrailia_test, linewidth=1, linestyle=\"solid\")\n",
        "\n",
        "plt.plot(dates_canada_train, canada_train_pred, linewidth=4, linestyle=\"dashed\")\n",
        "plt.plot(dates_canada_train, y_canada_train, linewidth=1, linestyle=\"dashed\")\n",
        "plt.plot(dates_canada_val, canada_val_pred, linewidth=4, linestyle=\"dashed\")\n",
        "plt.plot(dates_canada_val, y_canada_val, linewidth=1, linestyle=\"dashed\")\n",
        "plt.plot(dates_canada_test, canada_test_pred, linewidth=4, linestyle=\"dashed\")\n",
        "plt.plot(dates_canada_test, y_canada_test, linewidth=1, linestyle=\"dashed\")\n",
        "\n",
        "plt.plot(dates_united_kingdom_train, united_kingdom_train_pred, linewidth=4, linestyle=\"dotted\")\n",
        "plt.plot(dates_united_kingdom_train, y_united_kingdom_train, linewidth=1, linestyle=\"dotted\")\n",
        "plt.plot(dates_united_kingdom_val, united_kingdom_val_pred, linewidth=4, linestyle=\"dotted\")\n",
        "plt.plot(dates_united_kingdom_val, y_united_kingdom_val, linewidth=1, linestyle=\"dotted\")\n",
        "plt.plot(dates_united_kingdom_test, united_kingdom_test_pred, linewidth=4, linestyle=\"dotted\")\n",
        "plt.plot(dates_united_kingdom_test, y_united_kingdom_test, linewidth=1, linestyle=\"dotted\")\n",
        "\n",
        "plt.plot(dates_switzerland_train, switzerland_train_pred, linewidth=4, linestyle=\"dashdot\")\n",
        "plt.plot(dates_switzerland_train, y_switzerland_train, linewidth=1, linestyle=\"dashdot\")\n",
        "plt.plot(dates_switzerland_val, switzerland_val_pred, linewidth=4, linestyle=\"dashdot\")\n",
        "plt.plot(dates_switzerland_val, y_switzerland_val, linewidth=1, linestyle=\"dashdot\")\n",
        "plt.plot(dates_switzerland_test, switzerland_test_pred, linewidth=4, linestyle=\"dashdot\")\n",
        "plt.plot(dates_switzerland_test, y_switzerland_test, linewidth=1, linestyle=\"dashdot\")\n",
        "\n",
        "plt.legend([\"Training Predictions\",\n",
        "            \"Training Observations\",\n",
        "            \"Validation Predictions\",\n",
        "            \"Validation Observations\",\n",
        "            \"Testing Predictions\",\n",
        "            \"Testing Observations\"])\n",
        "plt.rcParams[\"font.size\"] = 8\n",
        "plt.tight_layout()\n",
        "plt.xlabel(\"Historical Date\")\n",
        "plt.ylabel(\"Currency Rate of the Respective Country to USD\")\n",
        "plt.title(\"Culmination of the Three Machine Learning Phases of All Four Countries' Datasets - Predictions vs. Observations\")\n",
        "plt.show()"
      ],
      "id": "a3c6284e",
      "execution_count": null,
      "outputs": []
    },
    {
      "cell_type": "markdown",
      "metadata": {},
      "source": [
        "Ultimately, here is the moment of truth: I tried to recursively predict Austrailia's future expected projection on its international currency rate between the United States through using my LSTM prediction model as shown below. By using the data from the training dataset for Austrailia, I tried to contrast the effectiveness of the model by constrasting its projection to the actual validation and testing data results.\n",
        "However, unfortunately, it did not predict as well as I hoped, but this was a good experiment, nonetheless.\n"
      ],
      "id": "0f449b2b"
    },
    {
      "cell_type": "code",
      "metadata": {},
      "source": [
        "# Attempt at using the model to predict into the future for Austrailia's currency \n",
        "# rate\n",
        "recursive_pred: list = []\n",
        "recursive_dates = np.concatenate([dates_austrailia_val, dates_austrailia_test])\n",
        "\n",
        "for target_date in recursive_dates:\n",
        "    last_window = deepcopy(X_austrailia_train[-1])\n",
        "    next_pred = austrailia_model.predict(np.array([last_window])).flatten()\n",
        "    recursive_pred.append(next_pred)\n",
        "    last_window[-1] = next_pred"
      ],
      "id": "4fb07f9b",
      "execution_count": null,
      "outputs": []
    },
    {
      "cell_type": "markdown",
      "metadata": {},
      "source": [
        "To visualize the results of my recursive prediction that I completed, I added these results to the previous large visualization that encompassed all 4 countries' Machine Learning model prediction-based vs. observation-based visualizations - Austrailia, Canada, the United Kingdom, and Switzerland as shown below.\n"
      ],
      "id": "381ebfbc"
    },
    {
      "cell_type": "code",
      "metadata": {},
      "source": [
        "# Plotting all countries' observational (reference) data with the predictions \n",
        "# of its Machine Learning Model (as a way to visually inspect the effectiveness \n",
        "# of the model in an overall sense) along with the new recursive prediction\n",
        "# results\n",
        "plt.plot(dates_austrailia_train, austrailia_train_pred, linewidth=4, linestyle=\"solid\")\n",
        "plt.plot(dates_austrailia_train, y_austrailia_train, linewidth=1, linestyle=\"solid\")\n",
        "plt.plot(dates_austrailia_val, austrailia_val_pred, linewidth=4, linestyle=\"solid\")\n",
        "plt.plot(dates_austrailia_val, y_austrailia_val, linewidth=1, linestyle=\"solid\")\n",
        "plt.plot(dates_austrailia_test, austrailia_test_pred, linewidth=4, linestyle=\"solid\")\n",
        "plt.plot(dates_austrailia_test, y_austrailia_test, linewidth=1, linestyle=\"solid\")\n",
        "plt.plot(recursive_dates, recursive_pred, linewidth=4, linestyle=\"solid\")\n",
        "\n",
        "plt.legend([\"Training Predictions\",\n",
        "            \"Training Observations\",\n",
        "            \"Validation Predictions\",\n",
        "            \"Validation Observations\",\n",
        "            \"Testing Predictions\",\n",
        "            \"Testing Observations\",\n",
        "            \"Recursive Predictions\"], loc=\"upper right\")\n",
        "plt.rcParams[\"font.size\"] = 8\n",
        "plt.tight_layout()\n",
        "plt.xlabel(\"Historical Date\")\n",
        "plt.ylabel(\"Currency Rate of the Respective Country to USD\")\n",
        "plt.title(\"Culmination of the Three Machine Learning Phases of Austrailia's Dataset - Predictions vs. Observations (With Recursive Pred. Attempt)\")\n",
        "plt.show()"
      ],
      "id": "65645018",
      "execution_count": null,
      "outputs": []
    },
    {
      "cell_type": "markdown",
      "metadata": {},
      "source": [
        "## Conclusions\n",
        "\n",
        "- Returning to my attempt to test the ability for my Machine Learning model to predict the International Currency rates for Austrailia from just the range of my training dataset as shown above, I felt that its prediction was acceptable in my opinion giving the averaging across the currency rate values in my validation and testing datasets would have proven to be considerably close in its precision. \n",
        "\n",
        "- Thus, I reached the conclusion that my International Currency Predictor would not be a viable Machine Learning model for any real-life applications. This Machine Learning model raised a valuable point - financial market prediction is a difficult endeavor to accurately predict. From a more general point of view, this International Currency Maching Learning prediction model is not totally inaccurate or untrustworthy but rather it is only on the micro-scale. These financial predictions do not always account for current events in that respective country such as changing domestic or international relations or constantly changing socioeconomic trends which could significantly sway market confidence and impact currency rate fluctuation. Consequently, economists often have to look at larger economic trends across several decades in order to make more educated predictions. \n",
        "\n",
        "- Ultimately, I learned a great deal about the complexities of financial prediction and usage of Machine Learning models as an attempt to solve this issue. Even though my model was not as successful at predicting as I would have hoped, I am interested to see the future of Machine Learning as it soon dominates these economic sub-field and  continues to rise in its relevance by being a pivotal talking point for the future and applied soon enough to other sectors of our society. \n",
        "\n",
        "## Reference Sources and Citations (IEEE Format)\n",
        "\n",
        "To complete this blog post, I used the following online sources as references for developing this:\n",
        "\n",
        "[1] US International Exchange Rates Dataset:\n",
        "\n",
        "B. Ferreira, \"Foreign Exchange Rates 2000-2019\", 2019. [Online]. Available: https://www.kaggle.com/datasets/brunotly/foreign-exchange-rates-per-dollar-20002019. [Accessed: 04-Sep.-2023].\n",
        "\n",
        "[2] Tutorial on Basics of LSTM and Prediction & Forecasting in Machine Learning:\n",
        "\n",
        "Greg Hogg, \"Stock Price Prediction & Forecasting with LSTM Neural Networks in Python\", *YouTube*, 26-Mar.-2022. [Online.] Available: https://www.youtube.com/watch?v=CbTU92pbDKw. [Accessed: 06-Sep.-2023]. \n"
      ],
      "id": "d4bc2a4c"
    }
  ],
  "metadata": {
    "kernelspec": {
      "name": "python3",
      "language": "python",
      "display_name": "Python 3 (ipykernel)"
    }
  },
  "nbformat": 4,
  "nbformat_minor": 5
}